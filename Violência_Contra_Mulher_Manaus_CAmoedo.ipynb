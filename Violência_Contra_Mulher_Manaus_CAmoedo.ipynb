{
  "nbformat": 4,
  "nbformat_minor": 0,
  "metadata": {
    "colab": {
      "name": "Violência Contra Mulher Manaus-CAmoedo.ipynb",
      "provenance": [],
      "collapsed_sections": [],
      "toc_visible": true,
      "include_colab_link": true
    },
    "kernelspec": {
      "name": "python3",
      "display_name": "Python 3"
    }
  },
  "cells": [
    {
      "cell_type": "markdown",
      "metadata": {
        "id": "view-in-github",
        "colab_type": "text"
      },
      "source": [
        "<a href=\"https://colab.research.google.com/github/charlesamoedo/Data-Science/blob/master/Viol%C3%AAncia_Contra_Mulher_Manaus_CAmoedo.ipynb\" target=\"_parent\"><img src=\"https://colab.research.google.com/assets/colab-badge.svg\" alt=\"Open In Colab\"/></a>"
      ]
    },
    {
      "cell_type": "markdown",
      "metadata": {
        "id": "-eFQZydM9O9J",
        "colab_type": "text"
      },
      "source": [
        "#### **Data Science na Prática 2.0**\n",
        "* Charles Amoêdo [with [sigmoidal.ai](https://sigmoidal.ai), 2020] RV-18.08\n",
        "  "
      ]
    },
    {
      "cell_type": "markdown",
      "metadata": {
        "id": "kLI0gJtzDGuQ",
        "colab_type": "text"
      },
      "source": [
        "# Analisando a Violência Doméstica Contra Muleres em Manaus - Amazonas\n",
        " <left><img alt=\"Feminicídio Não\" width=\"40%\" src=\"https://github.com/charlesamoedo/Data-Science/blob/master/datasets/feminicidiobasta600-250x300.jpg?raw=1\"></left>\n",
        "\n",
        "\n",
        "Neste notebook faremos uma análise exploratória sobre violência doméstica cometidas contra mulheres na capital do estado do Amazonas (Manaus) em 2020.\n",
        "\n",
        "Feminicídio é o homicídio cometido contra mulheres que é motivado por violência doméstica ou discriminação de gênero. [Brasil Escola \"Blog\"](https://tinyurl.com/yymovk68)"
      ]
    },
    {
      "cell_type": "markdown",
      "metadata": {
        "id": "0zxQHhIUDF_2",
        "colab_type": "text"
      },
      "source": [
        "## Obtenção dos Dados\n",
        "\n",
        "\n",
        "Os dados foram obtidos no [portal da SSP-AM](http://www.ssp.am.gov.br/ssp-dados/), através de arquivo PDF, depois convertido para .csv\n",
        "\n",
        "Nesse *dataset* \"infelizmente\" constam mínimas informações disponibilizadas pelas Secretarias de Segurança de Estado no Amazonas, há muito a se fazer para que realmente os dados sejam público e transparentes por aqui, em 15-08-2020, data que estou criando esta análise, só estão disponíveis informações até Junho de 2020, diante disto, vamos ver o que conseguimos gerar de informação."
      ]
    },
    {
      "cell_type": "markdown",
      "metadata": {
        "id": "7vh4at0l90nr",
        "colab_type": "text"
      },
      "source": [
        "### Importando os dados\n",
        "\n",
        "1) Para gerar o *DataFrame* foi convertido o [arquivo PDF baixando no portal da SSP-AM ](http://www.ssp.am.gov.br/wp-content/uploads/2020/07/Viol%C3%AAncia-dom%C3%A9stica-Manaus-2020.pdf) \n",
        "\n",
        "2) Para converter o arquivo em excel utilizamos o site https://www.freepdfconvert.com/\n",
        "\n",
        "3) Salvamos os dados em .csv\n",
        "\n",
        "4) Foi alterada a disposição e renomeadas as colunas para melhor evolução da análise."
      ]
    },
    {
      "cell_type": "code",
      "metadata": {
        "id": "CYLNme_OCX_R",
        "colab_type": "code",
        "colab": {
          "base_uri": "https://localhost:8080/",
          "height": 262
        },
        "outputId": "172f7534-8093-4a8f-be87-8ada60841a2a"
      },
      "source": [
        "# Importar Pandas  e criar data frame\n",
        "import pandas as pd\n",
        "# importar arquivo para dataFrame indexando peloa coluna MESES\n",
        "df = pd.read_csv(\"https://raw.githubusercontent.com/charlesamoedo/Data-Science/master/datasets/VDomManaus20.csv\", index_col='MESES')\n",
        "#Exibir 5 primeiras linhas do DF\n",
        "df.head(5)"
      ],
      "execution_count": null,
      "outputs": [
        {
          "output_type": "execute_result",
          "data": {
            "text/html": [
              "<div>\n",
              "<style scoped>\n",
              "    .dataframe tbody tr th:only-of-type {\n",
              "        vertical-align: middle;\n",
              "    }\n",
              "\n",
              "    .dataframe tbody tr th {\n",
              "        vertical-align: top;\n",
              "    }\n",
              "\n",
              "    .dataframe thead th {\n",
              "        text-align: right;\n",
              "    }\n",
              "</style>\n",
              "<table border=\"1\" class=\"dataframe\">\n",
              "  <thead>\n",
              "    <tr style=\"text-align: right;\">\n",
              "      <th></th>\n",
              "      <th>INJURUA</th>\n",
              "      <th>AMEACA</th>\n",
              "      <th>LESAO_CORPORAL</th>\n",
              "      <th>VIAS_DE_FATO</th>\n",
              "      <th>PERTURBACAO_TRANQUILID</th>\n",
              "      <th>DANO</th>\n",
              "      <th>DIFAMACAO</th>\n",
              "      <th>VIOLACAO_DOMICILIO</th>\n",
              "      <th>FURTO</th>\n",
              "      <th>ROUBO</th>\n",
              "      <th>CALUNIA</th>\n",
              "      <th>ESTUPRO</th>\n",
              "      <th>IMPORTUNACAO_SEXUAL</th>\n",
              "      <th>CONSTRANGIMENTO_ILEGAL</th>\n",
              "      <th>SEQUESTRO_CARCERE_PRIVD</th>\n",
              "      <th>FEMINICIDIO</th>\n",
              "      <th>APROPRIACAO_INDEBITA</th>\n",
              "      <th>MAUS _RATOS</th>\n",
              "      <th>PERTU_TRAB_SOSSEGO</th>\n",
              "      <th>ESTUPRO_VULNERAVEL</th>\n",
              "      <th>INCENDIO</th>\n",
              "      <th>REG_NAO_AUTOR_INTIMID</th>\n",
              "      <th>RETENCAO_DOCTOS</th>\n",
              "      <th>ABANDONO_INCAPAZ</th>\n",
              "      <th>HOMICIDIO</th>\n",
              "      <th>EXTORSAO</th>\n",
              "    </tr>\n",
              "    <tr>\n",
              "      <th>MESES</th>\n",
              "      <th></th>\n",
              "      <th></th>\n",
              "      <th></th>\n",
              "      <th></th>\n",
              "      <th></th>\n",
              "      <th></th>\n",
              "      <th></th>\n",
              "      <th></th>\n",
              "      <th></th>\n",
              "      <th></th>\n",
              "      <th></th>\n",
              "      <th></th>\n",
              "      <th></th>\n",
              "      <th></th>\n",
              "      <th></th>\n",
              "      <th></th>\n",
              "      <th></th>\n",
              "      <th></th>\n",
              "      <th></th>\n",
              "      <th></th>\n",
              "      <th></th>\n",
              "      <th></th>\n",
              "      <th></th>\n",
              "      <th></th>\n",
              "      <th></th>\n",
              "      <th></th>\n",
              "    </tr>\n",
              "  </thead>\n",
              "  <tbody>\n",
              "    <tr>\n",
              "      <th>JAN</th>\n",
              "      <td>713.0</td>\n",
              "      <td>638.0</td>\n",
              "      <td>205.0</td>\n",
              "      <td>232.0</td>\n",
              "      <td>198.0</td>\n",
              "      <td>38.0</td>\n",
              "      <td>24.0</td>\n",
              "      <td>25.0</td>\n",
              "      <td>16.0</td>\n",
              "      <td>7.0</td>\n",
              "      <td>5.0</td>\n",
              "      <td>7.0</td>\n",
              "      <td>5.0</td>\n",
              "      <td>4.0</td>\n",
              "      <td>4.0</td>\n",
              "      <td>0.0</td>\n",
              "      <td>4.0</td>\n",
              "      <td>3.0</td>\n",
              "      <td>3.0</td>\n",
              "      <td>0.0</td>\n",
              "      <td>1.0</td>\n",
              "      <td>0.0</td>\n",
              "      <td>1.0</td>\n",
              "      <td>0.0</td>\n",
              "      <td>3.0</td>\n",
              "      <td>1.0</td>\n",
              "    </tr>\n",
              "    <tr>\n",
              "      <th>FEV</th>\n",
              "      <td>698.0</td>\n",
              "      <td>597.0</td>\n",
              "      <td>254.0</td>\n",
              "      <td>244.0</td>\n",
              "      <td>204.0</td>\n",
              "      <td>36.0</td>\n",
              "      <td>30.0</td>\n",
              "      <td>19.0</td>\n",
              "      <td>15.0</td>\n",
              "      <td>5.0</td>\n",
              "      <td>5.0</td>\n",
              "      <td>4.0</td>\n",
              "      <td>5.0</td>\n",
              "      <td>3.0</td>\n",
              "      <td>2.0</td>\n",
              "      <td>2.0</td>\n",
              "      <td>1.0</td>\n",
              "      <td>2.0</td>\n",
              "      <td>1.0</td>\n",
              "      <td>0.0</td>\n",
              "      <td>2.0</td>\n",
              "      <td>1.0</td>\n",
              "      <td>0.0</td>\n",
              "      <td>3.0</td>\n",
              "      <td>0.0</td>\n",
              "      <td>0.0</td>\n",
              "    </tr>\n",
              "    <tr>\n",
              "      <th>MAR</th>\n",
              "      <td>535.0</td>\n",
              "      <td>500.0</td>\n",
              "      <td>254.0</td>\n",
              "      <td>178.0</td>\n",
              "      <td>164.0</td>\n",
              "      <td>16.0</td>\n",
              "      <td>32.0</td>\n",
              "      <td>12.0</td>\n",
              "      <td>7.0</td>\n",
              "      <td>8.0</td>\n",
              "      <td>6.0</td>\n",
              "      <td>4.0</td>\n",
              "      <td>5.0</td>\n",
              "      <td>3.0</td>\n",
              "      <td>2.0</td>\n",
              "      <td>5.0</td>\n",
              "      <td>2.0</td>\n",
              "      <td>1.0</td>\n",
              "      <td>2.0</td>\n",
              "      <td>2.0</td>\n",
              "      <td>0.0</td>\n",
              "      <td>2.0</td>\n",
              "      <td>2.0</td>\n",
              "      <td>0.0</td>\n",
              "      <td>0.0</td>\n",
              "      <td>1.0</td>\n",
              "    </tr>\n",
              "    <tr>\n",
              "      <th>ABR</th>\n",
              "      <td>183.0</td>\n",
              "      <td>181.0</td>\n",
              "      <td>173.0</td>\n",
              "      <td>83.0</td>\n",
              "      <td>36.0</td>\n",
              "      <td>13.0</td>\n",
              "      <td>5.0</td>\n",
              "      <td>7.0</td>\n",
              "      <td>6.0</td>\n",
              "      <td>0.0</td>\n",
              "      <td>3.0</td>\n",
              "      <td>3.0</td>\n",
              "      <td>0.0</td>\n",
              "      <td>1.0</td>\n",
              "      <td>2.0</td>\n",
              "      <td>1.0</td>\n",
              "      <td>1.0</td>\n",
              "      <td>1.0</td>\n",
              "      <td>0.0</td>\n",
              "      <td>3.0</td>\n",
              "      <td>0.0</td>\n",
              "      <td>0.0</td>\n",
              "      <td>0.0</td>\n",
              "      <td>0.0</td>\n",
              "      <td>0.0</td>\n",
              "      <td>0.0</td>\n",
              "    </tr>\n",
              "    <tr>\n",
              "      <th>MAI</th>\n",
              "      <td>426.0</td>\n",
              "      <td>491.0</td>\n",
              "      <td>233.0</td>\n",
              "      <td>196.0</td>\n",
              "      <td>136.0</td>\n",
              "      <td>24.0</td>\n",
              "      <td>8.0</td>\n",
              "      <td>14.0</td>\n",
              "      <td>7.0</td>\n",
              "      <td>1.0</td>\n",
              "      <td>6.0</td>\n",
              "      <td>4.0</td>\n",
              "      <td>2.0</td>\n",
              "      <td>0.0</td>\n",
              "      <td>4.0</td>\n",
              "      <td>2.0</td>\n",
              "      <td>0.0</td>\n",
              "      <td>4.0</td>\n",
              "      <td>3.0</td>\n",
              "      <td>3.0</td>\n",
              "      <td>0.0</td>\n",
              "      <td>0.0</td>\n",
              "      <td>1.0</td>\n",
              "      <td>1.0</td>\n",
              "      <td>1.0</td>\n",
              "      <td>1.0</td>\n",
              "    </tr>\n",
              "  </tbody>\n",
              "</table>\n",
              "</div>"
            ],
            "text/plain": [
              "       INJURUA  AMEACA  LESAO_CORPORAL  ...  ABANDONO_INCAPAZ  HOMICIDIO  EXTORSAO\n",
              "MESES                                   ...                                       \n",
              "JAN      713.0   638.0           205.0  ...               0.0        3.0       1.0\n",
              "FEV      698.0   597.0           254.0  ...               3.0        0.0       0.0\n",
              "MAR      535.0   500.0           254.0  ...               0.0        0.0       1.0\n",
              "ABR      183.0   181.0           173.0  ...               0.0        0.0       0.0\n",
              "MAI      426.0   491.0           233.0  ...               1.0        1.0       1.0\n",
              "\n",
              "[5 rows x 26 columns]"
            ]
          },
          "metadata": {
            "tags": []
          },
          "execution_count": 54
        }
      ]
    },
    {
      "cell_type": "markdown",
      "metadata": {
        "id": "qb5By2nIMS6m",
        "colab_type": "text"
      },
      "source": [
        "## Análise Inicial dos Dados\n",
        "\n",
        "Os dados são referentes às ocorrências de violências domésticas, registradas na Capital do Estado do Amazonas (Manaus), no período de Janeiro a Junho de 2020, que está disponível até hoje 15.08.2020 no portal da SSP-AM.  \n",
        "\n",
        "Atividades:\n",
        "* Qual o tamanho do DataFrame (`shape`)\n",
        "* Extrair e imprimir os nomes das colunas (`columns`)\n",
        "* Quais os tipos das variáveis (`dtypes`)\n",
        "* Visualizar as 6 primeiras linhas (`head`)\n",
        "* Identifique a porcentagem de valores ausentes das colunas"
      ]
    },
    {
      "cell_type": "code",
      "metadata": {
        "id": "8rEAZWy8PVEu",
        "colab_type": "code",
        "colab": {
          "base_uri": "https://localhost:8080/",
          "height": 34
        },
        "outputId": "e6396378-4661-4488-b043-6e160784ee96"
      },
      "source": [
        "# Tamanho do DataFrame\n",
        "df.shape"
      ],
      "execution_count": null,
      "outputs": [
        {
          "output_type": "execute_result",
          "data": {
            "text/plain": [
              "(12, 26)"
            ]
          },
          "metadata": {
            "tags": []
          },
          "execution_count": 55
        }
      ]
    },
    {
      "cell_type": "code",
      "metadata": {
        "id": "youfYV0pRLig",
        "colab_type": "code",
        "colab": {
          "base_uri": "https://localhost:8080/",
          "height": 158
        },
        "outputId": "4d32e1a9-76d6-4965-f8b5-64d4f47d0dcb"
      },
      "source": [
        "# Nome das colunas \"Variáveis\"\n",
        "df.columns"
      ],
      "execution_count": null,
      "outputs": [
        {
          "output_type": "execute_result",
          "data": {
            "text/plain": [
              "Index(['INJURUA', 'AMEACA', 'LESAO_CORPORAL', 'VIAS_DE_FATO',\n",
              "       'PERTURBACAO_TRANQUILID', 'DANO', 'DIFAMACAO', 'VIOLACAO_DOMICILIO',\n",
              "       'FURTO', 'ROUBO', 'CALUNIA', 'ESTUPRO', 'IMPORTUNACAO_SEXUAL',\n",
              "       'CONSTRANGIMENTO_ILEGAL', 'SEQUESTRO_CARCERE_PRIVD', 'FEMINICIDIO',\n",
              "       'APROPRIACAO_INDEBITA', 'MAUS _RATOS', 'PERTU_TRAB_SOSSEGO',\n",
              "       'ESTUPRO_VULNERAVEL', 'INCENDIO', 'REG_NAO_AUTOR_INTIMID',\n",
              "       'RETENCAO_DOCTOS', 'ABANDONO_INCAPAZ', 'HOMICIDIO', 'EXTORSAO'],\n",
              "      dtype='object')"
            ]
          },
          "metadata": {
            "tags": []
          },
          "execution_count": 56
        }
      ]
    },
    {
      "cell_type": "code",
      "metadata": {
        "id": "OlaunN29RTfB",
        "colab_type": "code",
        "colab": {
          "base_uri": "https://localhost:8080/",
          "height": 492
        },
        "outputId": "43508a1e-72ab-44dd-ba2a-656a59d364f7"
      },
      "source": [
        "#Tipos de dados presentes no DF \n",
        "df.dtypes"
      ],
      "execution_count": null,
      "outputs": [
        {
          "output_type": "execute_result",
          "data": {
            "text/plain": [
              "INJURUA                    float64\n",
              "AMEACA                     float64\n",
              "LESAO_CORPORAL             float64\n",
              "VIAS_DE_FATO               float64\n",
              "PERTURBACAO_TRANQUILID     float64\n",
              "DANO                       float64\n",
              "DIFAMACAO                  float64\n",
              "VIOLACAO_DOMICILIO         float64\n",
              "FURTO                      float64\n",
              "ROUBO                      float64\n",
              "CALUNIA                    float64\n",
              "ESTUPRO                    float64\n",
              "IMPORTUNACAO_SEXUAL        float64\n",
              "CONSTRANGIMENTO_ILEGAL     float64\n",
              "SEQUESTRO_CARCERE_PRIVD    float64\n",
              "FEMINICIDIO                float64\n",
              "APROPRIACAO_INDEBITA       float64\n",
              "MAUS _RATOS                float64\n",
              "PERTU_TRAB_SOSSEGO         float64\n",
              "ESTUPRO_VULNERAVEL         float64\n",
              "INCENDIO                   float64\n",
              "REG_NAO_AUTOR_INTIMID      float64\n",
              "RETENCAO_DOCTOS            float64\n",
              "ABANDONO_INCAPAZ           float64\n",
              "HOMICIDIO                  float64\n",
              "EXTORSAO                   float64\n",
              "dtype: object"
            ]
          },
          "metadata": {
            "tags": []
          },
          "execution_count": 58
        }
      ]
    },
    {
      "cell_type": "code",
      "metadata": {
        "id": "XS1aKBGRRfZ4",
        "colab_type": "code",
        "colab": {
          "base_uri": "https://localhost:8080/",
          "height": 291
        },
        "outputId": "1b726fed-2fad-4436-a0d9-9da344a7b3c1"
      },
      "source": [
        "# Seis primeiras linhas do DF (Cabeçalho)\n",
        "df.head(6)"
      ],
      "execution_count": null,
      "outputs": [
        {
          "output_type": "execute_result",
          "data": {
            "text/html": [
              "<div>\n",
              "<style scoped>\n",
              "    .dataframe tbody tr th:only-of-type {\n",
              "        vertical-align: middle;\n",
              "    }\n",
              "\n",
              "    .dataframe tbody tr th {\n",
              "        vertical-align: top;\n",
              "    }\n",
              "\n",
              "    .dataframe thead th {\n",
              "        text-align: right;\n",
              "    }\n",
              "</style>\n",
              "<table border=\"1\" class=\"dataframe\">\n",
              "  <thead>\n",
              "    <tr style=\"text-align: right;\">\n",
              "      <th></th>\n",
              "      <th>INJURUA</th>\n",
              "      <th>AMEACA</th>\n",
              "      <th>LESAO_CORPORAL</th>\n",
              "      <th>VIAS_DE_FATO</th>\n",
              "      <th>PERTURBACAO_TRANQUILID</th>\n",
              "      <th>DANO</th>\n",
              "      <th>DIFAMACAO</th>\n",
              "      <th>VIOLACAO_DOMICILIO</th>\n",
              "      <th>FURTO</th>\n",
              "      <th>ROUBO</th>\n",
              "      <th>CALUNIA</th>\n",
              "      <th>ESTUPRO</th>\n",
              "      <th>IMPORTUNACAO_SEXUAL</th>\n",
              "      <th>CONSTRANGIMENTO_ILEGAL</th>\n",
              "      <th>SEQUESTRO_CARCERE_PRIVD</th>\n",
              "      <th>FEMINICIDIO</th>\n",
              "      <th>APROPRIACAO_INDEBITA</th>\n",
              "      <th>MAUS _RATOS</th>\n",
              "      <th>PERTU_TRAB_SOSSEGO</th>\n",
              "      <th>ESTUPRO_VULNERAVEL</th>\n",
              "      <th>INCENDIO</th>\n",
              "      <th>REG_NAO_AUTOR_INTIMID</th>\n",
              "      <th>RETENCAO_DOCTOS</th>\n",
              "      <th>ABANDONO_INCAPAZ</th>\n",
              "      <th>HOMICIDIO</th>\n",
              "      <th>EXTORSAO</th>\n",
              "    </tr>\n",
              "    <tr>\n",
              "      <th>MESES</th>\n",
              "      <th></th>\n",
              "      <th></th>\n",
              "      <th></th>\n",
              "      <th></th>\n",
              "      <th></th>\n",
              "      <th></th>\n",
              "      <th></th>\n",
              "      <th></th>\n",
              "      <th></th>\n",
              "      <th></th>\n",
              "      <th></th>\n",
              "      <th></th>\n",
              "      <th></th>\n",
              "      <th></th>\n",
              "      <th></th>\n",
              "      <th></th>\n",
              "      <th></th>\n",
              "      <th></th>\n",
              "      <th></th>\n",
              "      <th></th>\n",
              "      <th></th>\n",
              "      <th></th>\n",
              "      <th></th>\n",
              "      <th></th>\n",
              "      <th></th>\n",
              "      <th></th>\n",
              "    </tr>\n",
              "  </thead>\n",
              "  <tbody>\n",
              "    <tr>\n",
              "      <th>JAN</th>\n",
              "      <td>713.0</td>\n",
              "      <td>638.0</td>\n",
              "      <td>205.0</td>\n",
              "      <td>232.0</td>\n",
              "      <td>198.0</td>\n",
              "      <td>38.0</td>\n",
              "      <td>24.0</td>\n",
              "      <td>25.0</td>\n",
              "      <td>16.0</td>\n",
              "      <td>7.0</td>\n",
              "      <td>5.0</td>\n",
              "      <td>7.0</td>\n",
              "      <td>5.0</td>\n",
              "      <td>4.0</td>\n",
              "      <td>4.0</td>\n",
              "      <td>0.0</td>\n",
              "      <td>4.0</td>\n",
              "      <td>3.0</td>\n",
              "      <td>3.0</td>\n",
              "      <td>0.0</td>\n",
              "      <td>1.0</td>\n",
              "      <td>0.0</td>\n",
              "      <td>1.0</td>\n",
              "      <td>0.0</td>\n",
              "      <td>3.0</td>\n",
              "      <td>1.0</td>\n",
              "    </tr>\n",
              "    <tr>\n",
              "      <th>FEV</th>\n",
              "      <td>698.0</td>\n",
              "      <td>597.0</td>\n",
              "      <td>254.0</td>\n",
              "      <td>244.0</td>\n",
              "      <td>204.0</td>\n",
              "      <td>36.0</td>\n",
              "      <td>30.0</td>\n",
              "      <td>19.0</td>\n",
              "      <td>15.0</td>\n",
              "      <td>5.0</td>\n",
              "      <td>5.0</td>\n",
              "      <td>4.0</td>\n",
              "      <td>5.0</td>\n",
              "      <td>3.0</td>\n",
              "      <td>2.0</td>\n",
              "      <td>2.0</td>\n",
              "      <td>1.0</td>\n",
              "      <td>2.0</td>\n",
              "      <td>1.0</td>\n",
              "      <td>0.0</td>\n",
              "      <td>2.0</td>\n",
              "      <td>1.0</td>\n",
              "      <td>0.0</td>\n",
              "      <td>3.0</td>\n",
              "      <td>0.0</td>\n",
              "      <td>0.0</td>\n",
              "    </tr>\n",
              "    <tr>\n",
              "      <th>MAR</th>\n",
              "      <td>535.0</td>\n",
              "      <td>500.0</td>\n",
              "      <td>254.0</td>\n",
              "      <td>178.0</td>\n",
              "      <td>164.0</td>\n",
              "      <td>16.0</td>\n",
              "      <td>32.0</td>\n",
              "      <td>12.0</td>\n",
              "      <td>7.0</td>\n",
              "      <td>8.0</td>\n",
              "      <td>6.0</td>\n",
              "      <td>4.0</td>\n",
              "      <td>5.0</td>\n",
              "      <td>3.0</td>\n",
              "      <td>2.0</td>\n",
              "      <td>5.0</td>\n",
              "      <td>2.0</td>\n",
              "      <td>1.0</td>\n",
              "      <td>2.0</td>\n",
              "      <td>2.0</td>\n",
              "      <td>0.0</td>\n",
              "      <td>2.0</td>\n",
              "      <td>2.0</td>\n",
              "      <td>0.0</td>\n",
              "      <td>0.0</td>\n",
              "      <td>1.0</td>\n",
              "    </tr>\n",
              "    <tr>\n",
              "      <th>ABR</th>\n",
              "      <td>183.0</td>\n",
              "      <td>181.0</td>\n",
              "      <td>173.0</td>\n",
              "      <td>83.0</td>\n",
              "      <td>36.0</td>\n",
              "      <td>13.0</td>\n",
              "      <td>5.0</td>\n",
              "      <td>7.0</td>\n",
              "      <td>6.0</td>\n",
              "      <td>0.0</td>\n",
              "      <td>3.0</td>\n",
              "      <td>3.0</td>\n",
              "      <td>0.0</td>\n",
              "      <td>1.0</td>\n",
              "      <td>2.0</td>\n",
              "      <td>1.0</td>\n",
              "      <td>1.0</td>\n",
              "      <td>1.0</td>\n",
              "      <td>0.0</td>\n",
              "      <td>3.0</td>\n",
              "      <td>0.0</td>\n",
              "      <td>0.0</td>\n",
              "      <td>0.0</td>\n",
              "      <td>0.0</td>\n",
              "      <td>0.0</td>\n",
              "      <td>0.0</td>\n",
              "    </tr>\n",
              "    <tr>\n",
              "      <th>MAI</th>\n",
              "      <td>426.0</td>\n",
              "      <td>491.0</td>\n",
              "      <td>233.0</td>\n",
              "      <td>196.0</td>\n",
              "      <td>136.0</td>\n",
              "      <td>24.0</td>\n",
              "      <td>8.0</td>\n",
              "      <td>14.0</td>\n",
              "      <td>7.0</td>\n",
              "      <td>1.0</td>\n",
              "      <td>6.0</td>\n",
              "      <td>4.0</td>\n",
              "      <td>2.0</td>\n",
              "      <td>0.0</td>\n",
              "      <td>4.0</td>\n",
              "      <td>2.0</td>\n",
              "      <td>0.0</td>\n",
              "      <td>4.0</td>\n",
              "      <td>3.0</td>\n",
              "      <td>3.0</td>\n",
              "      <td>0.0</td>\n",
              "      <td>0.0</td>\n",
              "      <td>1.0</td>\n",
              "      <td>1.0</td>\n",
              "      <td>1.0</td>\n",
              "      <td>1.0</td>\n",
              "    </tr>\n",
              "    <tr>\n",
              "      <th>JUN</th>\n",
              "      <td>644.0</td>\n",
              "      <td>626.0</td>\n",
              "      <td>272.0</td>\n",
              "      <td>196.0</td>\n",
              "      <td>251.0</td>\n",
              "      <td>29.0</td>\n",
              "      <td>29.0</td>\n",
              "      <td>21.0</td>\n",
              "      <td>9.0</td>\n",
              "      <td>3.0</td>\n",
              "      <td>8.0</td>\n",
              "      <td>2.0</td>\n",
              "      <td>5.0</td>\n",
              "      <td>2.0</td>\n",
              "      <td>3.0</td>\n",
              "      <td>3.0</td>\n",
              "      <td>3.0</td>\n",
              "      <td>5.0</td>\n",
              "      <td>6.0</td>\n",
              "      <td>3.0</td>\n",
              "      <td>1.0</td>\n",
              "      <td>0.0</td>\n",
              "      <td>4.0</td>\n",
              "      <td>2.0</td>\n",
              "      <td>0.0</td>\n",
              "      <td>0.0</td>\n",
              "    </tr>\n",
              "  </tbody>\n",
              "</table>\n",
              "</div>"
            ],
            "text/plain": [
              "       INJURUA  AMEACA  LESAO_CORPORAL  ...  ABANDONO_INCAPAZ  HOMICIDIO  EXTORSAO\n",
              "MESES                                   ...                                       \n",
              "JAN      713.0   638.0           205.0  ...               0.0        3.0       1.0\n",
              "FEV      698.0   597.0           254.0  ...               3.0        0.0       0.0\n",
              "MAR      535.0   500.0           254.0  ...               0.0        0.0       1.0\n",
              "ABR      183.0   181.0           173.0  ...               0.0        0.0       0.0\n",
              "MAI      426.0   491.0           233.0  ...               1.0        1.0       1.0\n",
              "JUN      644.0   626.0           272.0  ...               2.0        0.0       0.0\n",
              "\n",
              "[6 rows x 26 columns]"
            ]
          },
          "metadata": {
            "tags": []
          },
          "execution_count": 59
        }
      ]
    },
    {
      "cell_type": "code",
      "metadata": {
        "id": "h3lhme1HRo-w",
        "colab_type": "code",
        "colab": {
          "base_uri": "https://localhost:8080/",
          "height": 492
        },
        "outputId": "5360e685-f818-47bc-afe5-96af13e27138"
      },
      "source": [
        "# ordenar em decrescente as variáveis por seus valores ausentes\n",
        "(df.isnull().sum() / df.shape[0]).sort_values(ascending=False)"
      ],
      "execution_count": null,
      "outputs": [
        {
          "output_type": "execute_result",
          "data": {
            "text/plain": [
              "EXTORSAO                   0.5\n",
              "HOMICIDIO                  0.5\n",
              "AMEACA                     0.5\n",
              "LESAO_CORPORAL             0.5\n",
              "VIAS_DE_FATO               0.5\n",
              "PERTURBACAO_TRANQUILID     0.5\n",
              "DANO                       0.5\n",
              "DIFAMACAO                  0.5\n",
              "VIOLACAO_DOMICILIO         0.5\n",
              "FURTO                      0.5\n",
              "ROUBO                      0.5\n",
              "CALUNIA                    0.5\n",
              "ESTUPRO                    0.5\n",
              "IMPORTUNACAO_SEXUAL        0.5\n",
              "CONSTRANGIMENTO_ILEGAL     0.5\n",
              "SEQUESTRO_CARCERE_PRIVD    0.5\n",
              "FEMINICIDIO                0.5\n",
              "APROPRIACAO_INDEBITA       0.5\n",
              "MAUS _RATOS                0.5\n",
              "PERTU_TRAB_SOSSEGO         0.5\n",
              "ESTUPRO_VULNERAVEL         0.5\n",
              "INCENDIO                   0.5\n",
              "REG_NAO_AUTOR_INTIMID      0.5\n",
              "RETENCAO_DOCTOS            0.5\n",
              "ABANDONO_INCAPAZ           0.5\n",
              "INJURUA                    0.5\n",
              "dtype: float64"
            ]
          },
          "metadata": {
            "tags": []
          },
          "execution_count": 60
        }
      ]
    },
    {
      "cell_type": "markdown",
      "metadata": {
        "id": "G6dnsNYm-41g",
        "colab_type": "text"
      },
      "source": [
        "## Informações Estatísticas da Violência\n",
        "A seguir iremos gerar informações estatísticas dos dados mais relevantes sobre o tema.\n",
        "\n",
        "* Resumo estatístico do DataFrame (`describe`)\n",
        "* As médias por NATUREZA:  \"Injúria e Ameaça\"\n",
        "* Porcentagem NATUREZA \"Injúria e Ameaça\":\n",
        "* Porcentagem de `LESAO CORPORAL`, `VIA DE FATOS` e **`FEMINICIDIO`**\n",
        "\n",
        " <left><img alt=\"Feminicídio Não\" width=\"30%\" src=\"https://assets-compromissoeatitude-ipg.sfo2.cdn.digitaloceanspaces.com/2013/10/feminicidiobasta600-250x300.jpg\"></left>\n",
        " \n",
        "\n"
      ]
    },
    {
      "cell_type": "code",
      "metadata": {
        "id": "2AIoKVbFSqAw",
        "colab_type": "code",
        "colab": {
          "base_uri": "https://localhost:8080/",
          "height": 321
        },
        "outputId": "5e65483a-fe85-46fc-d112-5595b84d151b"
      },
      "source": [
        "#Resumo estatístico do dataFrame\n",
        "df.describe()"
      ],
      "execution_count": null,
      "outputs": [
        {
          "output_type": "execute_result",
          "data": {
            "text/html": [
              "<div>\n",
              "<style scoped>\n",
              "    .dataframe tbody tr th:only-of-type {\n",
              "        vertical-align: middle;\n",
              "    }\n",
              "\n",
              "    .dataframe tbody tr th {\n",
              "        vertical-align: top;\n",
              "    }\n",
              "\n",
              "    .dataframe thead th {\n",
              "        text-align: right;\n",
              "    }\n",
              "</style>\n",
              "<table border=\"1\" class=\"dataframe\">\n",
              "  <thead>\n",
              "    <tr style=\"text-align: right;\">\n",
              "      <th></th>\n",
              "      <th>INJURUA</th>\n",
              "      <th>AMEACA</th>\n",
              "      <th>LESAO_CORPORAL</th>\n",
              "      <th>VIAS_DE_FATO</th>\n",
              "      <th>PERTURBACAO_TRANQUILID</th>\n",
              "      <th>DANO</th>\n",
              "      <th>DIFAMACAO</th>\n",
              "      <th>VIOLACAO_DOMICILIO</th>\n",
              "      <th>FURTO</th>\n",
              "      <th>ROUBO</th>\n",
              "      <th>CALUNIA</th>\n",
              "      <th>ESTUPRO</th>\n",
              "      <th>IMPORTUNACAO_SEXUAL</th>\n",
              "      <th>CONSTRANGIMENTO_ILEGAL</th>\n",
              "      <th>SEQUESTRO_CARCERE_PRIVD</th>\n",
              "      <th>FEMINICIDIO</th>\n",
              "      <th>APROPRIACAO_INDEBITA</th>\n",
              "      <th>MAUS _RATOS</th>\n",
              "      <th>PERTU_TRAB_SOSSEGO</th>\n",
              "      <th>ESTUPRO_VULNERAVEL</th>\n",
              "      <th>INCENDIO</th>\n",
              "      <th>REG_NAO_AUTOR_INTIMID</th>\n",
              "      <th>RETENCAO_DOCTOS</th>\n",
              "      <th>ABANDONO_INCAPAZ</th>\n",
              "      <th>HOMICIDIO</th>\n",
              "      <th>EXTORSAO</th>\n",
              "    </tr>\n",
              "  </thead>\n",
              "  <tbody>\n",
              "    <tr>\n",
              "      <th>count</th>\n",
              "      <td>6.000000</td>\n",
              "      <td>6.00000</td>\n",
              "      <td>6.000000</td>\n",
              "      <td>6.000000</td>\n",
              "      <td>6.000000</td>\n",
              "      <td>6.000000</td>\n",
              "      <td>6.000000</td>\n",
              "      <td>6.000000</td>\n",
              "      <td>6.00000</td>\n",
              "      <td>6.000000</td>\n",
              "      <td>6.000000</td>\n",
              "      <td>6.00000</td>\n",
              "      <td>6.000000</td>\n",
              "      <td>6.000000</td>\n",
              "      <td>6.000000</td>\n",
              "      <td>6.000000</td>\n",
              "      <td>6.000000</td>\n",
              "      <td>6.000000</td>\n",
              "      <td>6.000000</td>\n",
              "      <td>6.000000</td>\n",
              "      <td>6.000000</td>\n",
              "      <td>6.00000</td>\n",
              "      <td>6.000000</td>\n",
              "      <td>6.000000</td>\n",
              "      <td>6.000000</td>\n",
              "      <td>6.000000</td>\n",
              "    </tr>\n",
              "    <tr>\n",
              "      <th>mean</th>\n",
              "      <td>533.166667</td>\n",
              "      <td>505.50000</td>\n",
              "      <td>231.833333</td>\n",
              "      <td>188.166667</td>\n",
              "      <td>164.833333</td>\n",
              "      <td>26.000000</td>\n",
              "      <td>21.333333</td>\n",
              "      <td>16.333333</td>\n",
              "      <td>10.00000</td>\n",
              "      <td>4.000000</td>\n",
              "      <td>5.500000</td>\n",
              "      <td>4.00000</td>\n",
              "      <td>3.666667</td>\n",
              "      <td>2.166667</td>\n",
              "      <td>2.833333</td>\n",
              "      <td>2.166667</td>\n",
              "      <td>1.833333</td>\n",
              "      <td>2.666667</td>\n",
              "      <td>2.500000</td>\n",
              "      <td>1.833333</td>\n",
              "      <td>0.666667</td>\n",
              "      <td>0.50000</td>\n",
              "      <td>1.333333</td>\n",
              "      <td>1.000000</td>\n",
              "      <td>0.666667</td>\n",
              "      <td>0.500000</td>\n",
              "    </tr>\n",
              "    <tr>\n",
              "      <th>std</th>\n",
              "      <td>202.927984</td>\n",
              "      <td>170.87393</td>\n",
              "      <td>36.820737</td>\n",
              "      <td>57.139887</td>\n",
              "      <td>74.146926</td>\n",
              "      <td>10.256705</td>\n",
              "      <td>11.826524</td>\n",
              "      <td>6.562520</td>\n",
              "      <td>4.38178</td>\n",
              "      <td>3.224903</td>\n",
              "      <td>1.643168</td>\n",
              "      <td>1.67332</td>\n",
              "      <td>2.160247</td>\n",
              "      <td>1.471960</td>\n",
              "      <td>0.983192</td>\n",
              "      <td>1.722401</td>\n",
              "      <td>1.471960</td>\n",
              "      <td>1.632993</td>\n",
              "      <td>2.073644</td>\n",
              "      <td>1.471960</td>\n",
              "      <td>0.816497</td>\n",
              "      <td>0.83666</td>\n",
              "      <td>1.505545</td>\n",
              "      <td>1.264911</td>\n",
              "      <td>1.211060</td>\n",
              "      <td>0.547723</td>\n",
              "    </tr>\n",
              "    <tr>\n",
              "      <th>min</th>\n",
              "      <td>183.000000</td>\n",
              "      <td>181.00000</td>\n",
              "      <td>173.000000</td>\n",
              "      <td>83.000000</td>\n",
              "      <td>36.000000</td>\n",
              "      <td>13.000000</td>\n",
              "      <td>5.000000</td>\n",
              "      <td>7.000000</td>\n",
              "      <td>6.00000</td>\n",
              "      <td>0.000000</td>\n",
              "      <td>3.000000</td>\n",
              "      <td>2.00000</td>\n",
              "      <td>0.000000</td>\n",
              "      <td>0.000000</td>\n",
              "      <td>2.000000</td>\n",
              "      <td>0.000000</td>\n",
              "      <td>0.000000</td>\n",
              "      <td>1.000000</td>\n",
              "      <td>0.000000</td>\n",
              "      <td>0.000000</td>\n",
              "      <td>0.000000</td>\n",
              "      <td>0.00000</td>\n",
              "      <td>0.000000</td>\n",
              "      <td>0.000000</td>\n",
              "      <td>0.000000</td>\n",
              "      <td>0.000000</td>\n",
              "    </tr>\n",
              "    <tr>\n",
              "      <th>25%</th>\n",
              "      <td>453.250000</td>\n",
              "      <td>493.25000</td>\n",
              "      <td>212.000000</td>\n",
              "      <td>182.500000</td>\n",
              "      <td>143.000000</td>\n",
              "      <td>18.000000</td>\n",
              "      <td>12.000000</td>\n",
              "      <td>12.500000</td>\n",
              "      <td>7.00000</td>\n",
              "      <td>1.500000</td>\n",
              "      <td>5.000000</td>\n",
              "      <td>3.25000</td>\n",
              "      <td>2.750000</td>\n",
              "      <td>1.250000</td>\n",
              "      <td>2.000000</td>\n",
              "      <td>1.250000</td>\n",
              "      <td>1.000000</td>\n",
              "      <td>1.250000</td>\n",
              "      <td>1.250000</td>\n",
              "      <td>0.500000</td>\n",
              "      <td>0.000000</td>\n",
              "      <td>0.00000</td>\n",
              "      <td>0.250000</td>\n",
              "      <td>0.000000</td>\n",
              "      <td>0.000000</td>\n",
              "      <td>0.000000</td>\n",
              "    </tr>\n",
              "    <tr>\n",
              "      <th>50%</th>\n",
              "      <td>589.500000</td>\n",
              "      <td>548.50000</td>\n",
              "      <td>243.500000</td>\n",
              "      <td>196.000000</td>\n",
              "      <td>181.000000</td>\n",
              "      <td>26.500000</td>\n",
              "      <td>26.500000</td>\n",
              "      <td>16.500000</td>\n",
              "      <td>8.00000</td>\n",
              "      <td>4.000000</td>\n",
              "      <td>5.500000</td>\n",
              "      <td>4.00000</td>\n",
              "      <td>5.000000</td>\n",
              "      <td>2.500000</td>\n",
              "      <td>2.500000</td>\n",
              "      <td>2.000000</td>\n",
              "      <td>1.500000</td>\n",
              "      <td>2.500000</td>\n",
              "      <td>2.500000</td>\n",
              "      <td>2.500000</td>\n",
              "      <td>0.500000</td>\n",
              "      <td>0.00000</td>\n",
              "      <td>1.000000</td>\n",
              "      <td>0.500000</td>\n",
              "      <td>0.000000</td>\n",
              "      <td>0.500000</td>\n",
              "    </tr>\n",
              "    <tr>\n",
              "      <th>75%</th>\n",
              "      <td>684.500000</td>\n",
              "      <td>618.75000</td>\n",
              "      <td>254.000000</td>\n",
              "      <td>223.000000</td>\n",
              "      <td>202.500000</td>\n",
              "      <td>34.250000</td>\n",
              "      <td>29.750000</td>\n",
              "      <td>20.500000</td>\n",
              "      <td>13.50000</td>\n",
              "      <td>6.500000</td>\n",
              "      <td>6.000000</td>\n",
              "      <td>4.00000</td>\n",
              "      <td>5.000000</td>\n",
              "      <td>3.000000</td>\n",
              "      <td>3.750000</td>\n",
              "      <td>2.750000</td>\n",
              "      <td>2.750000</td>\n",
              "      <td>3.750000</td>\n",
              "      <td>3.000000</td>\n",
              "      <td>3.000000</td>\n",
              "      <td>1.000000</td>\n",
              "      <td>0.75000</td>\n",
              "      <td>1.750000</td>\n",
              "      <td>1.750000</td>\n",
              "      <td>0.750000</td>\n",
              "      <td>1.000000</td>\n",
              "    </tr>\n",
              "    <tr>\n",
              "      <th>max</th>\n",
              "      <td>713.000000</td>\n",
              "      <td>638.00000</td>\n",
              "      <td>272.000000</td>\n",
              "      <td>244.000000</td>\n",
              "      <td>251.000000</td>\n",
              "      <td>38.000000</td>\n",
              "      <td>32.000000</td>\n",
              "      <td>25.000000</td>\n",
              "      <td>16.00000</td>\n",
              "      <td>8.000000</td>\n",
              "      <td>8.000000</td>\n",
              "      <td>7.00000</td>\n",
              "      <td>5.000000</td>\n",
              "      <td>4.000000</td>\n",
              "      <td>4.000000</td>\n",
              "      <td>5.000000</td>\n",
              "      <td>4.000000</td>\n",
              "      <td>5.000000</td>\n",
              "      <td>6.000000</td>\n",
              "      <td>3.000000</td>\n",
              "      <td>2.000000</td>\n",
              "      <td>2.00000</td>\n",
              "      <td>4.000000</td>\n",
              "      <td>3.000000</td>\n",
              "      <td>3.000000</td>\n",
              "      <td>1.000000</td>\n",
              "    </tr>\n",
              "  </tbody>\n",
              "</table>\n",
              "</div>"
            ],
            "text/plain": [
              "          INJURUA     AMEACA  ...  HOMICIDIO  EXTORSAO\n",
              "count    6.000000    6.00000  ...   6.000000  6.000000\n",
              "mean   533.166667  505.50000  ...   0.666667  0.500000\n",
              "std    202.927984  170.87393  ...   1.211060  0.547723\n",
              "min    183.000000  181.00000  ...   0.000000  0.000000\n",
              "25%    453.250000  493.25000  ...   0.000000  0.000000\n",
              "50%    589.500000  548.50000  ...   0.000000  0.500000\n",
              "75%    684.500000  618.75000  ...   0.750000  1.000000\n",
              "max    713.000000  638.00000  ...   3.000000  1.000000\n",
              "\n",
              "[8 rows x 26 columns]"
            ]
          },
          "metadata": {
            "tags": []
          },
          "execution_count": 61
        }
      ]
    },
    {
      "cell_type": "code",
      "metadata": {
        "id": "Cr6AQa5HS8Nt",
        "colab_type": "code",
        "colab": {
          "base_uri": "https://localhost:8080/",
          "height": 52
        },
        "outputId": "c666488b-60c0-47ae-c19f-f3bc76361fc6"
      },
      "source": [
        "# Média Natureza (INJÚRIA E AMEAÇA)\n",
        "\n",
        "MEDIA_INJ = df.INJURUA.mean()\n",
        "MEDIA_AME = df.AMEACA.mean()\n",
        "print(round(MEDIA_INJ,2))\n",
        "print(round(MEDIA_AME,2))"
      ],
      "execution_count": null,
      "outputs": [
        {
          "output_type": "stream",
          "text": [
            "533.17\n",
            "505.5\n"
          ],
          "name": "stdout"
        }
      ]
    },
    {
      "cell_type": "markdown",
      "metadata": {
        "id": "fTlvn84CPn87",
        "colab_type": "text"
      },
      "source": [
        "Verificamos acima que a média das variáveis **INJÚRIA E AMEAÇA** são de **533.17 E 505.5**, respectivamente por mês, ou seja, são números absurdos que tendem a evoluir para outro tipo de evento, como  agressão, vias de fato ou até mesmo FEMINICÍDIO por isso são importantes indicadores que devem ser melhor acompanhados."
      ]
    },
    {
      "cell_type": "code",
      "metadata": {
        "id": "lEMk2dLCTe19",
        "colab_type": "code",
        "colab": {
          "base_uri": "https://localhost:8080/",
          "height": 122
        },
        "outputId": "c8b8c9ab-d97f-4f98-8d10-e823e26da38c"
      },
      "source": [
        "# Média de Feminicídio\n",
        "MEDIA_LESC = df.LESAO_CORPORAL.mean()\n",
        "MEDIA_VIAF = df.VIAS_DE_FATO.mean()\n",
        "TRUCULENCE = MEDIA_LESC + MEDIA_VIAF\n",
        "\n",
        "print(round(MEDIA_LESC,2))\n",
        "print(round(MEDIA_VIAF,2))\n",
        "print('----------------------')\n",
        "print(df.LESAO_CORPORAL.sum() + df.VIAS_DE_FATO.sum())\n",
        "print(round(TRUCULENCE / 2,2))\n",
        "print(round((TRUCULENCE / 2)/30,2))\n",
        "\n"
      ],
      "execution_count": null,
      "outputs": [
        {
          "output_type": "stream",
          "text": [
            "231.83\n",
            "188.17\n",
            "----------------------\n",
            "2520.0\n",
            "210.0\n",
            "7.0\n"
          ],
          "name": "stdout"
        }
      ]
    },
    {
      "cell_type": "markdown",
      "metadata": {
        "id": "R0sgqGcRT3tc",
        "colab_type": "text"
      },
      "source": [
        "Evoluindo com a análise, observamos acima, índices preocupantes de **LESÃO CORPORAL E VIAS DE FATOS por mês**, \"lembrem-se, um evento sempre é um indicador para outro\", vamos analisar duas variáveis de evento e criamos uma terceira variável chamada **TRUCULENCE** para somar as duas, vejam os resultados abaixo: \n",
        "\n",
        "**LESÃO CORPORAL = 231.83**\n",
        "\n",
        "**VIAS DE FATO = 231.83**\n",
        "\n",
        "**TRUCULENCE**\n",
        "\n",
        "**SOMA = 2520.0**\n",
        "\n",
        "**MEDIA = 210.0**\n",
        "\n",
        "*Considerando que um mês tem 30 dias, isso corresponde a pelomenos 7 casos por dia.*\n",
        "\n"
      ]
    },
    {
      "cell_type": "markdown",
      "metadata": {
        "id": "Uod3jDRhSct4",
        "colab_type": "text"
      },
      "source": [
        "# **FEMINICÍDIO**\n",
        "\n",
        "Vamos analisar esse indicador **FEMINICÍDIO por mês** juntando com outros tipos de eventos presentes nos dados.\n",
        "\n",
        "`FEMINICIDIO`, `HOMICIDIO`, `INCENDIO`\n",
        "\n",
        "*Incêndio é um evento que é ou tentativa ou fato de homicídio, por isso está presente na análise a seguir:*"
      ]
    },
    {
      "cell_type": "code",
      "metadata": {
        "id": "RGgB5z-B3bZ8",
        "colab_type": "code",
        "colab": {
          "base_uri": "https://localhost:8080/",
          "height": 70
        },
        "outputId": "4ceb12c5-4b1d-4d6d-b753-b2cc2a8a841f"
      },
      "source": [
        "# Total de Feminicídios, Homicídios e incêndio\n",
        "print(df.FEMINICIDIO.sum())\n",
        "print(df.HOMICIDIO.sum())\n",
        "print(df.INCENDIO.sum())\n",
        "\n"
      ],
      "execution_count": null,
      "outputs": [
        {
          "output_type": "stream",
          "text": [
            "13.0\n",
            "4.0\n",
            "4.0\n"
          ],
          "name": "stdout"
        }
      ]
    },
    {
      "cell_type": "markdown",
      "metadata": {
        "id": "zcspEtrT6sMk",
        "colab_type": "text"
      },
      "source": [
        "**Os número mensais acima mostram:**\n",
        "\n",
        "**`FEMINICIDIO`= 13**\n",
        "\n",
        "**`HOMICIDIO`=4**\n",
        "\n",
        "**`INCENDIO` = 4**\n"
      ]
    },
    {
      "cell_type": "markdown",
      "metadata": {
        "id": "t6H8nRN97I27",
        "colab_type": "text"
      },
      "source": [
        "**A seguir vamos analisar as médias e depois somar.**\n"
      ]
    },
    {
      "cell_type": "code",
      "metadata": {
        "id": "mJ6iqgatStqv",
        "colab_type": "code",
        "colab": {
          "base_uri": "https://localhost:8080/",
          "height": 70
        },
        "outputId": "943750f0-a594-4b69-9220-3b505410c64a"
      },
      "source": [
        "# Média de Feminicídio\n",
        "MEDIA_FEM = df.FEMINICIDIO.mean()\n",
        "print(round(MEDIA_FEM,2))\n",
        "# média de homicídio\n",
        "print(df.HOMICIDIO.mean())\n",
        "#somando as duas variáveis\n",
        "print(df.INCENDIO.mean())"
      ],
      "execution_count": null,
      "outputs": [
        {
          "output_type": "stream",
          "text": [
            "2.17\n",
            "0.6666666666666666\n",
            "4.0\n"
          ],
          "name": "stdout"
        }
      ]
    },
    {
      "cell_type": "code",
      "metadata": {
        "id": "i2TfdIm07ap_",
        "colab_type": "code",
        "colab": {
          "base_uri": "https://localhost:8080/",
          "height": 34
        },
        "outputId": "127d1a23-f3f7-40a1-d10f-b21f98fda486"
      },
      "source": [
        "# SOMANDO AS MÉDIAS\n",
        "SOMA_MEDIAS_MORTES =df.FEMINICIDIO.mean()+ df.HOMICIDIO.mean()+df.INCENDIO.mean()\n",
        "print(SOMA_MEDIAS_MORTES)\n"
      ],
      "execution_count": null,
      "outputs": [
        {
          "output_type": "stream",
          "text": [
            "3.4999999999999996\n"
          ],
          "name": "stdout"
        }
      ]
    },
    {
      "cell_type": "markdown",
      "metadata": {
        "id": "vaJE0qMH75PH",
        "colab_type": "text"
      },
      "source": [
        "A soma das médias desses tipos de eventos demonstra que há uma média de quase **QUATRO ASSASSINATOS** de mulheres por mês em Manaus."
      ]
    },
    {
      "cell_type": "markdown",
      "metadata": {
        "id": "7WK0NBQZASKC",
        "colab_type": "text"
      },
      "source": [
        "## Visualização de Dados\n",
        "\n",
        "Histograma é um poderoso recursos de visualização de dados, abaixo faremos a plotagem do histograma para mostrar cada uma das variáveis:\n",
        "* `INJÚRIA, AMEAÇAS, LESÃO CORPORAL, VIAS DE FATO E FEMINICÍDIO`.\n",
        "\n",
        "Vamos Plotar ainda um gráfico de linhas para variável \n",
        "* `PERTURBACAO_TRANQUILID`"
      ]
    },
    {
      "cell_type": "code",
      "metadata": {
        "id": "-uJaoFivYdvD",
        "colab_type": "code",
        "colab": {
          "base_uri": "https://localhost:8080/",
          "height": 265
        },
        "outputId": "ba1aa1dd-fe25-42fe-9cda-13ea9d9ed9c6"
      },
      "source": [
        "# Histogramas da variável\n",
        "df.INJURUA.hist();"
      ],
      "execution_count": null,
      "outputs": [
        {
          "output_type": "display_data",
          "data": {
            "image/png": "[encoded data removed]",
            "text/plain": [
              "<Figure size 432x288 with 1 Axes>"
            ]
          },
          "metadata": {
            "tags": [],
            "needs_background": "light"
          }
        }
      ]
    },
    {
      "cell_type": "code",
      "metadata": {
        "id": "TnSRCwQHnzsX",
        "colab_type": "code",
        "colab": {
          "base_uri": "https://localhost:8080/",
          "height": 265
        },
        "outputId": "8eededc0-6084-4752-ff72-e981b2f92c8a"
      },
      "source": [
        "# Histogramas da variável\n",
        "df.AMEACA.hist();"
      ],
      "execution_count": null,
      "outputs": [
        {
          "output_type": "display_data",
          "data": {
            "image/png": "[encoded data removed]",
            "text/plain": [
              "<Figure size 432x288 with 1 Axes>"
            ]
          },
          "metadata": {
            "tags": [],
            "needs_background": "light"
          }
        }
      ]
    },
    {
      "cell_type": "code",
      "metadata": {
        "id": "8N8qy81Fn1Ht",
        "colab_type": "code",
        "colab": {
          "base_uri": "https://localhost:8080/",
          "height": 265
        },
        "outputId": "85812dd5-01c2-42be-f2ec-77876c1ecb1d"
      },
      "source": [
        "# Histogramas da variável\n",
        "df.LESAO_CORPORAL.hist();"
      ],
      "execution_count": null,
      "outputs": [
        {
          "output_type": "display_data",
          "data": {
            "image/png": "[encoded data removed]",
            "text/plain": [
              "<Figure size 432x288 with 1 Axes>"
            ]
          },
          "metadata": {
            "tags": [],
            "needs_background": "light"
          }
        }
      ]
    },
    {
      "cell_type": "code",
      "metadata": {
        "id": "UM4VtT6Ln1mU",
        "colab_type": "code",
        "colab": {
          "base_uri": "https://localhost:8080/",
          "height": 265
        },
        "outputId": "56ce668b-48c8-4d55-f79f-a9c397549c87"
      },
      "source": [
        "# Histogramas da variável\n",
        "df.VIAS_DE_FATO.hist();"
      ],
      "execution_count": null,
      "outputs": [
        {
          "output_type": "display_data",
          "data": {
            "image/png": "[encoded data removed]",
            "text/plain": [
              "<Figure size 432x288 with 1 Axes>"
            ]
          },
          "metadata": {
            "tags": [],
            "needs_background": "light"
          }
        }
      ]
    },
    {
      "cell_type": "code",
      "metadata": {
        "id": "A_KoVWqZpvuE",
        "colab_type": "code",
        "colab": {
          "base_uri": "https://localhost:8080/",
          "height": 265
        },
        "outputId": "cd718d72-c3dc-45a9-fbbe-2327c91a69da"
      },
      "source": [
        "# Histogramas da variável\n",
        "# FEMINICÍCDIO\n",
        "df.FEMINICIDIO.hist();"
      ],
      "execution_count": null,
      "outputs": [
        {
          "output_type": "display_data",
          "data": {
            "image/png": "[encoded data removed]",
            "text/plain": [
              "<Figure size 432x288 with 1 Axes>"
            ]
          },
          "metadata": {
            "tags": [],
            "needs_background": "light"
          }
        }
      ]
    },
    {
      "cell_type": "code",
      "metadata": {
        "id": "n6XrvNpMnzfw",
        "colab_type": "code",
        "colab": {
          "base_uri": "https://localhost:8080/",
          "height": 279
        },
        "outputId": "dd96f9ed-9704-4a40-9a89-7aff7578ab6f"
      },
      "source": [
        "# Grafico de Linha para variável perturbação da tranquilidade \n",
        "df.PERTURBACAO_TRANQUILID.plot();"
      ],
      "execution_count": null,
      "outputs": [
        {
          "output_type": "display_data",
          "data": {
            "image/png": "[encoded data removed]",
            "text/plain": [
              "<Figure size 432x288 with 1 Axes>"
            ]
          },
          "metadata": {
            "tags": [],
            "needs_background": "light"
          }
        }
      ]
    },
    {
      "cell_type": "markdown",
      "metadata": {
        "id": "LCsiXvM3BcsO",
        "colab_type": "text"
      },
      "source": [
        "## Conclusão\n",
        "\n",
        "Além da aplicação de análise exploratório básica neste nootebook, fica registrada a importância \"lamentavelmente\" de demonstrar os números absurdos de violências cometidas contra a mulheres na capital do Estado do Amazona (Manaus).\n",
        "\n",
        "Abrindo um parêntese, Fiquei muito surpreso com os resultados encontrados e desta forma não tinha como aqui fazer apenas o papel de Cientista de Dados, esse era o objetivo principal, no entanto, diante dos resultasdos fiquei indignado e aqui quero solidarizar com as mulheres e seus familiares que sofrem com a violência doméstica.\n",
        "\n",
        "Por fim, este estudo revela muito mais que os próprios números nele demonstrados e deixa ainda algumas perguntas a serem respondias:\n",
        "\n",
        "* a) Quantos desses casos passará para o próximo evento?\n",
        "* b) Que ações o Poder público está tomando para reduzir as taxas de violência contra a mulheres?\n",
        "* c) Quanto as transparências dos dados, será que há interesse em realmente divulgar?\n",
        "\n"
      ]
    },
    {
      "cell_type": "markdown",
      "metadata": {
        "id": "KGdJ59Gt_E5a",
        "colab_type": "text"
      },
      "source": [
        ""
      ]
    },
    {
      "cell_type": "markdown",
      "metadata": {
        "colab_type": "text",
        "id": "x-56QajZzgZx"
      },
      "source": [
        "## Referências\n",
        "\n",
        "\n",
        "\n",
        "[Data Science na Prática 2.0](https://sigmoidal.ai)\n",
        "\n",
        "[portal da SSP-AM](http://www.ssp.am.gov.br/ssp-dados/)\n",
        "\n",
        "[Compromisso e Atitude](http://www.compromissoeatitude.org.br)\n"
      ]
    }
  ]
}