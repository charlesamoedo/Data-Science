{
  "nbformat": 4,
  "nbformat_minor": 0,
  "metadata": {
    "colab": {
      "name": "Introdução ao Pandas.ipynb",
      "provenance": [],
      "authorship_tag": "ABX9TyNv5cii+89lgvn3DUStONPt",
      "include_colab_link": true
    },
    "kernelspec": {
      "name": "python3",
      "display_name": "Python 3"
    }
  },
  "cells": [
    {
      "cell_type": "markdown",
      "metadata": {
        "id": "view-in-github",
        "colab_type": "text"
      },
      "source": [
        "<a href=\"https://colab.research.google.com/github/charlesamoedo/Data-Science/blob/master/Introdu%C3%A7%C3%A3o_ao_Pandas.ipynb\" target=\"_parent\"><img src=\"https://colab.research.google.com/assets/colab-badge.svg\" alt=\"Open In Colab\"/></a>"
      ]
    },
    {
      "cell_type": "markdown",
      "metadata": {
        "id": "EMbUizkK94Lf",
        "colab_type": "text"
      },
      "source": [
        "# Introdução ao pandas\n",
        "Data Science Direto e na Prática\n",
        "\n",
        "Pandas é uma das bibliotecas mais utilizadas para trabalhar com **Data Science**, oferece incríveis recursos para manipulação de dados e arquivos.\n",
        "\n",
        "Caso utilize o Colaboratory, a biblioteca já está diponível agora caso utilize off-line no anacondas (jupyter-notebook) então é necessário fazer a importação manual, a frente veremos como  fazer.\n",
        "\n",
        "\n"
      ]
    },
    {
      "cell_type": "markdown",
      "metadata": {
        "id": "nBjI8Sbq985y",
        "colab_type": "text"
      },
      "source": [
        ""
      ]
    }
  ]
}