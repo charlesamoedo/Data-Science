{
  "nbformat": 4,
  "nbformat_minor": 0,
  "metadata": {
    "colab": {
      "name": "Criando DataFrame.ipynb",
      "provenance": [],
      "collapsed_sections": [],
      "authorship_tag": "ABX9TyPsbIhihwB7tLkkDOF1Tsvb",
      "include_colab_link": true
    },
    "kernelspec": {
      "name": "python3",
      "display_name": "Python 3"
    }
  },
  "cells": [
    {
      "cell_type": "markdown",
      "metadata": {
        "id": "view-in-github",
        "colab_type": "text"
      },
      "source": [
        "<a href=\"https://colab.research.google.com/github/charlesamoedo/Data-Science/blob/master/Criando_DataFrame.ipynb\" target=\"_parent\"><img src=\"https://colab.research.google.com/assets/colab-badge.svg\" alt=\"Open In Colab\"/></a>"
      ]
    },
    {
      "cell_type": "markdown",
      "metadata": {
        "id": "EMbUizkK94Lf",
        "colab_type": "text"
      },
      "source": [
        "# Introdução ao pandas\n",
        "Data Science Direto e na Prática\n",
        "\n",
        "**Data Science - Criando DataFrame**\n",
        "\n",
        "Em algum momento pode ser necessário criar DataFrames(DF) para inserção e manipulação dos dados, ou tras palavras, criar na mão um DF."
      ]
    },
    {
      "cell_type": "code",
      "metadata": {
        "id": "f_haYRuU7SfN",
        "colab_type": "code",
        "colab": {}
      },
      "source": [
        "# importar pandas\n",
        "import pandas as pd"
      ],
      "execution_count": 1,
      "outputs": []
    },
    {
      "cell_type": "markdown",
      "metadata": {
        "id": "Q3niuNCp7hTr",
        "colab_type": "text"
      },
      "source": [
        "# Craindo DataFrames (DF) \n",
        "Podemos criar DF a partir de qualquer estrutura de dados utilizadas pelo Python, lista, dicionários, array.\n",
        "\n",
        "**DataFrame a partir de dicionário:** Dicionários são estruturas formadas por pares de chave e valor {key:value}\n"
      ]
    },
    {
      "cell_type": "code",
      "metadata": {
        "id": "ah0FFCcy76FP",
        "colab_type": "code",
        "colab": {}
      },
      "source": [
        "# criar dicionário\n",
        "dados_dict ={\n",
        "    \"nome\":[\"Charles\",\"Maria\",\"José\",\"Francisco\"],\n",
        "    \"idade\":[30,29,47,87],\n",
        "    \"cidade\":[\"Manaus\",\"São Paulo\",\"Rio de Janeiro\",\"Brasília\"],\n",
        "    \"comprou\":[True,False,True,False]\n",
        "}"
      ],
      "execution_count": 34,
      "outputs": []
    },
    {
      "cell_type": "code",
      "metadata": {
        "id": "0xEE6K8w9fb-",
        "colab_type": "code",
        "colab": {
          "base_uri": "https://localhost:8080/",
          "height": 70
        },
        "outputId": "3a2c8a5d-f1b4-4f73-ed0d-20c81b13621c"
      },
      "source": [
        "#retronar valores do dicionario\n",
        "#para retornar uma coluna basta adicionar o nome da mesma dados_dict[\"nome\"]\n",
        "dados_dict"
      ],
      "execution_count": 17,
      "outputs": [
        {
          "output_type": "execute_result",
          "data": {
            "text/plain": [
              "{'cidade': [True, False, True, False],\n",
              " 'idade': [30, 29, 47, 87],\n",
              " 'nome': ['Charles', 'Maria', 'José', 'Francisco']}"
            ]
          },
          "metadata": {
            "tags": []
          },
          "execution_count": 17
        }
      ]
    },
    {
      "cell_type": "code",
      "metadata": {
        "id": "9aqbbYHr-geU",
        "colab_type": "code",
        "colab": {
          "base_uri": "https://localhost:8080/",
          "height": 34
        },
        "outputId": "e72d6df7-d338-4f39-dbfa-078694b02759"
      },
      "source": [
        "# retornar somente as chave .keys() somente valor .values()\n",
        "dados_dict.keys()\n",
        "dados_dict.values()"
      ],
      "execution_count": 32,
      "outputs": [
        {
          "output_type": "execute_result",
          "data": {
            "text/plain": [
              "dict_values([['Charles', 'Maria', 'José', 'Francisco'], [30, 29, 47, 87], [True, False, True, False]])"
            ]
          },
          "metadata": {
            "tags": []
          },
          "execution_count": 32
        }
      ]
    },
    {
      "cell_type": "code",
      "metadata": {
        "id": "StJA0cUE_K9X",
        "colab_type": "code",
        "colab": {
          "base_uri": "https://localhost:8080/",
          "height": 166
        },
        "outputId": "5a62fcde-bb5d-42e4-ebb6-63adab40501a"
      },
      "source": [
        "#converter o dicionário em DataFrame\n",
        "pd.DataFrame(dados_dict)"
      ],
      "execution_count": 35,
      "outputs": [
        {
          "output_type": "execute_result",
          "data": {
            "text/html": [
              "<div>\n",
              "<style scoped>\n",
              "    .dataframe tbody tr th:only-of-type {\n",
              "        vertical-align: middle;\n",
              "    }\n",
              "\n",
              "    .dataframe tbody tr th {\n",
              "        vertical-align: top;\n",
              "    }\n",
              "\n",
              "    .dataframe thead th {\n",
              "        text-align: right;\n",
              "    }\n",
              "</style>\n",
              "<table border=\"1\" class=\"dataframe\">\n",
              "  <thead>\n",
              "    <tr style=\"text-align: right;\">\n",
              "      <th></th>\n",
              "      <th>nome</th>\n",
              "      <th>idade</th>\n",
              "      <th>cidade</th>\n",
              "      <th>comprou</th>\n",
              "    </tr>\n",
              "  </thead>\n",
              "  <tbody>\n",
              "    <tr>\n",
              "      <th>0</th>\n",
              "      <td>Charles</td>\n",
              "      <td>30</td>\n",
              "      <td>Manaus</td>\n",
              "      <td>True</td>\n",
              "    </tr>\n",
              "    <tr>\n",
              "      <th>1</th>\n",
              "      <td>Maria</td>\n",
              "      <td>29</td>\n",
              "      <td>São Paulo</td>\n",
              "      <td>False</td>\n",
              "    </tr>\n",
              "    <tr>\n",
              "      <th>2</th>\n",
              "      <td>José</td>\n",
              "      <td>47</td>\n",
              "      <td>Rio de Janeiro</td>\n",
              "      <td>True</td>\n",
              "    </tr>\n",
              "    <tr>\n",
              "      <th>3</th>\n",
              "      <td>Francisco</td>\n",
              "      <td>87</td>\n",
              "      <td>Brasília</td>\n",
              "      <td>False</td>\n",
              "    </tr>\n",
              "  </tbody>\n",
              "</table>\n",
              "</div>"
            ],
            "text/plain": [
              "        nome  idade          cidade  comprou\n",
              "0    Charles     30          Manaus     True\n",
              "1      Maria     29       São Paulo    False\n",
              "2       José     47  Rio de Janeiro     True\n",
              "3  Francisco     87        Brasília    False"
            ]
          },
          "metadata": {
            "tags": []
          },
          "execution_count": 35
        }
      ]
    },
    {
      "cell_type": "code",
      "metadata": {
        "id": "JL4rpv8p_tV5",
        "colab_type": "code",
        "colab": {}
      },
      "source": [
        "# Atribuir o DataFrame para uma variável\n",
        "df = pd.DataFrame(dados_dict)"
      ],
      "execution_count": 36,
      "outputs": []
    },
    {
      "cell_type": "code",
      "metadata": {
        "id": "hCzIn2V7_0TU",
        "colab_type": "code",
        "colab": {
          "base_uri": "https://localhost:8080/",
          "height": 166
        },
        "outputId": "b8dcef4a-0638-4d41-f3b8-64b3c225e8cd"
      },
      "source": [
        "df"
      ],
      "execution_count": 37,
      "outputs": [
        {
          "output_type": "execute_result",
          "data": {
            "text/html": [
              "<div>\n",
              "<style scoped>\n",
              "    .dataframe tbody tr th:only-of-type {\n",
              "        vertical-align: middle;\n",
              "    }\n",
              "\n",
              "    .dataframe tbody tr th {\n",
              "        vertical-align: top;\n",
              "    }\n",
              "\n",
              "    .dataframe thead th {\n",
              "        text-align: right;\n",
              "    }\n",
              "</style>\n",
              "<table border=\"1\" class=\"dataframe\">\n",
              "  <thead>\n",
              "    <tr style=\"text-align: right;\">\n",
              "      <th></th>\n",
              "      <th>nome</th>\n",
              "      <th>idade</th>\n",
              "      <th>cidade</th>\n",
              "      <th>comprou</th>\n",
              "    </tr>\n",
              "  </thead>\n",
              "  <tbody>\n",
              "    <tr>\n",
              "      <th>0</th>\n",
              "      <td>Charles</td>\n",
              "      <td>30</td>\n",
              "      <td>Manaus</td>\n",
              "      <td>True</td>\n",
              "    </tr>\n",
              "    <tr>\n",
              "      <th>1</th>\n",
              "      <td>Maria</td>\n",
              "      <td>29</td>\n",
              "      <td>São Paulo</td>\n",
              "      <td>False</td>\n",
              "    </tr>\n",
              "    <tr>\n",
              "      <th>2</th>\n",
              "      <td>José</td>\n",
              "      <td>47</td>\n",
              "      <td>Rio de Janeiro</td>\n",
              "      <td>True</td>\n",
              "    </tr>\n",
              "    <tr>\n",
              "      <th>3</th>\n",
              "      <td>Francisco</td>\n",
              "      <td>87</td>\n",
              "      <td>Brasília</td>\n",
              "      <td>False</td>\n",
              "    </tr>\n",
              "  </tbody>\n",
              "</table>\n",
              "</div>"
            ],
            "text/plain": [
              "        nome  idade          cidade  comprou\n",
              "0    Charles     30          Manaus     True\n",
              "1      Maria     29       São Paulo    False\n",
              "2       José     47  Rio de Janeiro     True\n",
              "3  Francisco     87        Brasília    False"
            ]
          },
          "metadata": {
            "tags": []
          },
          "execution_count": 37
        }
      ]
    },
    {
      "cell_type": "code",
      "metadata": {
        "id": "ND-Ly0kCBL3M",
        "colab_type": "code",
        "colab": {
          "base_uri": "https://localhost:8080/",
          "height": 34
        },
        "outputId": "62947f1d-eedc-4daa-ac04-b576f154eaec"
      },
      "source": [
        "# O index do DF é a primeira coluna, 0,1,2,3\n",
        "# começa em 0, termina em 4, sendo que exclui-se o 4\n",
        "df.index"
      ],
      "execution_count": 42,
      "outputs": [
        {
          "output_type": "execute_result",
          "data": {
            "text/plain": [
              "RangeIndex(start=0, stop=4, step=1)"
            ]
          },
          "metadata": {
            "tags": []
          },
          "execution_count": 42
        }
      ]
    },
    {
      "cell_type": "code",
      "metadata": {
        "id": "wm4xsJ65Aa9h",
        "colab_type": "code",
        "colab": {}
      },
      "source": [
        "# Criar uma coluna no DF para identificar o indice\n",
        "# 1o. Cria uma variável para atribuir os numeros dos indices\n",
        "id_pessoa =[10,25,30,40]\n"
      ],
      "execution_count": 41,
      "outputs": []
    },
    {
      "cell_type": "code",
      "metadata": {
        "id": "xxRPS97jBdhE",
        "colab_type": "code",
        "colab": {}
      },
      "source": [
        "# atribuindo o indeice criado ao DF\n",
        "df.index = id_pessoa"
      ],
      "execution_count": 43,
      "outputs": []
    },
    {
      "cell_type": "code",
      "metadata": {
        "id": "evW9qx_GBoCK",
        "colab_type": "code",
        "colab": {
          "base_uri": "https://localhost:8080/",
          "height": 166
        },
        "outputId": "72d68f78-5247-4ec9-db5f-daa5f42ff89a"
      },
      "source": [
        "df"
      ],
      "execution_count": 44,
      "outputs": [
        {
          "output_type": "execute_result",
          "data": {
            "text/html": [
              "<div>\n",
              "<style scoped>\n",
              "    .dataframe tbody tr th:only-of-type {\n",
              "        vertical-align: middle;\n",
              "    }\n",
              "\n",
              "    .dataframe tbody tr th {\n",
              "        vertical-align: top;\n",
              "    }\n",
              "\n",
              "    .dataframe thead th {\n",
              "        text-align: right;\n",
              "    }\n",
              "</style>\n",
              "<table border=\"1\" class=\"dataframe\">\n",
              "  <thead>\n",
              "    <tr style=\"text-align: right;\">\n",
              "      <th></th>\n",
              "      <th>nome</th>\n",
              "      <th>idade</th>\n",
              "      <th>cidade</th>\n",
              "      <th>comprou</th>\n",
              "    </tr>\n",
              "  </thead>\n",
              "  <tbody>\n",
              "    <tr>\n",
              "      <th>10</th>\n",
              "      <td>Charles</td>\n",
              "      <td>30</td>\n",
              "      <td>Manaus</td>\n",
              "      <td>True</td>\n",
              "    </tr>\n",
              "    <tr>\n",
              "      <th>25</th>\n",
              "      <td>Maria</td>\n",
              "      <td>29</td>\n",
              "      <td>São Paulo</td>\n",
              "      <td>False</td>\n",
              "    </tr>\n",
              "    <tr>\n",
              "      <th>30</th>\n",
              "      <td>José</td>\n",
              "      <td>47</td>\n",
              "      <td>Rio de Janeiro</td>\n",
              "      <td>True</td>\n",
              "    </tr>\n",
              "    <tr>\n",
              "      <th>40</th>\n",
              "      <td>Francisco</td>\n",
              "      <td>87</td>\n",
              "      <td>Brasília</td>\n",
              "      <td>False</td>\n",
              "    </tr>\n",
              "  </tbody>\n",
              "</table>\n",
              "</div>"
            ],
            "text/plain": [
              "         nome  idade          cidade  comprou\n",
              "10    Charles     30          Manaus     True\n",
              "25      Maria     29       São Paulo    False\n",
              "30       José     47  Rio de Janeiro     True\n",
              "40  Francisco     87        Brasília    False"
            ]
          },
          "metadata": {
            "tags": []
          },
          "execution_count": 44
        }
      ]
    },
    {
      "cell_type": "code",
      "metadata": {
        "id": "lQmqFJpGByv9",
        "colab_type": "code",
        "colab": {
          "base_uri": "https://localhost:8080/",
          "height": 105
        },
        "outputId": "d756890c-be5e-4e4a-ed74-9ce6249769f7"
      },
      "source": [
        "# a partir de agora posso selecionar pelo index (id_pessoa)\n",
        "df.loc[30]"
      ],
      "execution_count": 47,
      "outputs": [
        {
          "output_type": "execute_result",
          "data": {
            "text/plain": [
              "nome                 José\n",
              "idade                  47\n",
              "cidade     Rio de Janeiro\n",
              "comprou              True\n",
              "Name: 30, dtype: object"
            ]
          },
          "metadata": {
            "tags": []
          },
          "execution_count": 47
        }
      ]
    },
    {
      "cell_type": "markdown",
      "metadata": {
        "id": "VTatpax7CyK8",
        "colab_type": "text"
      },
      "source": [
        "**DataFrame a partir de listas:** Listas são estruturas formadas..."
      ]
    },
    {
      "cell_type": "code",
      "metadata": {
        "id": "bmPfanB6C33o",
        "colab_type": "code",
        "colab": {}
      },
      "source": [
        "# Criando Lista\n",
        "dados_lista =[[\"Charles\",35,\"Manaus\",True],\n",
        "              [\"Raimunda\",86,\"Brasília\",False],\n",
        "              [\"Josá\",42,\"Rio de Janeiro\",True],\n",
        "              [\"Mariana\",25,\"Belém\",False]]"
      ],
      "execution_count": 48,
      "outputs": []
    },
    {
      "cell_type": "code",
      "metadata": {
        "id": "4vigSFoGD2sZ",
        "colab_type": "code",
        "colab": {}
      },
      "source": [
        "# Criar DF a partir da lista\n",
        "df = pd.DataFrame(dados_lista)"
      ],
      "execution_count": 50,
      "outputs": []
    },
    {
      "cell_type": "code",
      "metadata": {
        "id": "UA64nhdoEPGW",
        "colab_type": "code",
        "colab": {
          "base_uri": "https://localhost:8080/",
          "height": 166
        },
        "outputId": "ff012f31-9dbc-414f-9c67-ba13842cb34d"
      },
      "source": [
        "# Observe abaixo que as colunas vieram numeradas, sem nome, abaixo colocaremos o nome\n",
        "df"
      ],
      "execution_count": 51,
      "outputs": [
        {
          "output_type": "execute_result",
          "data": {
            "text/html": [
              "<div>\n",
              "<style scoped>\n",
              "    .dataframe tbody tr th:only-of-type {\n",
              "        vertical-align: middle;\n",
              "    }\n",
              "\n",
              "    .dataframe tbody tr th {\n",
              "        vertical-align: top;\n",
              "    }\n",
              "\n",
              "    .dataframe thead th {\n",
              "        text-align: right;\n",
              "    }\n",
              "</style>\n",
              "<table border=\"1\" class=\"dataframe\">\n",
              "  <thead>\n",
              "    <tr style=\"text-align: right;\">\n",
              "      <th></th>\n",
              "      <th>0</th>\n",
              "      <th>1</th>\n",
              "      <th>2</th>\n",
              "      <th>3</th>\n",
              "    </tr>\n",
              "  </thead>\n",
              "  <tbody>\n",
              "    <tr>\n",
              "      <th>0</th>\n",
              "      <td>Charles</td>\n",
              "      <td>35</td>\n",
              "      <td>Manaus</td>\n",
              "      <td>True</td>\n",
              "    </tr>\n",
              "    <tr>\n",
              "      <th>1</th>\n",
              "      <td>Raimunda</td>\n",
              "      <td>86</td>\n",
              "      <td>Brasília</td>\n",
              "      <td>False</td>\n",
              "    </tr>\n",
              "    <tr>\n",
              "      <th>2</th>\n",
              "      <td>Josá</td>\n",
              "      <td>42</td>\n",
              "      <td>Rio de Janeiro</td>\n",
              "      <td>True</td>\n",
              "    </tr>\n",
              "    <tr>\n",
              "      <th>3</th>\n",
              "      <td>Mariana</td>\n",
              "      <td>25</td>\n",
              "      <td>Belém</td>\n",
              "      <td>False</td>\n",
              "    </tr>\n",
              "  </tbody>\n",
              "</table>\n",
              "</div>"
            ],
            "text/plain": [
              "          0   1               2      3\n",
              "0   Charles  35          Manaus   True\n",
              "1  Raimunda  86        Brasília  False\n",
              "2      Josá  42  Rio de Janeiro   True\n",
              "3   Mariana  25           Belém  False"
            ]
          },
          "metadata": {
            "tags": []
          },
          "execution_count": 51
        }
      ]
    },
    {
      "cell_type": "code",
      "metadata": {
        "id": "-bPABndNEb8M",
        "colab_type": "code",
        "colab": {}
      },
      "source": [
        "# Criar DF a partir da lista com nome das colunas\n",
        "df = pd.DataFrame(dados_lista, columns=[\"Nome\",\"Idade\",\"Cidade\",\"Comprou\"])"
      ],
      "execution_count": 52,
      "outputs": []
    },
    {
      "cell_type": "code",
      "metadata": {
        "id": "ykUO4F-iEqZo",
        "colab_type": "code",
        "colab": {
          "base_uri": "https://localhost:8080/",
          "height": 166
        },
        "outputId": "95698d7b-3f6e-440d-945a-a39c0042520c"
      },
      "source": [
        "# Agora ao imprimir aparecem o nome das colunas\n",
        "df"
      ],
      "execution_count": 53,
      "outputs": [
        {
          "output_type": "execute_result",
          "data": {
            "text/html": [
              "<div>\n",
              "<style scoped>\n",
              "    .dataframe tbody tr th:only-of-type {\n",
              "        vertical-align: middle;\n",
              "    }\n",
              "\n",
              "    .dataframe tbody tr th {\n",
              "        vertical-align: top;\n",
              "    }\n",
              "\n",
              "    .dataframe thead th {\n",
              "        text-align: right;\n",
              "    }\n",
              "</style>\n",
              "<table border=\"1\" class=\"dataframe\">\n",
              "  <thead>\n",
              "    <tr style=\"text-align: right;\">\n",
              "      <th></th>\n",
              "      <th>Nome</th>\n",
              "      <th>Idade</th>\n",
              "      <th>Cidade</th>\n",
              "      <th>Comprou</th>\n",
              "    </tr>\n",
              "  </thead>\n",
              "  <tbody>\n",
              "    <tr>\n",
              "      <th>0</th>\n",
              "      <td>Charles</td>\n",
              "      <td>35</td>\n",
              "      <td>Manaus</td>\n",
              "      <td>True</td>\n",
              "    </tr>\n",
              "    <tr>\n",
              "      <th>1</th>\n",
              "      <td>Raimunda</td>\n",
              "      <td>86</td>\n",
              "      <td>Brasília</td>\n",
              "      <td>False</td>\n",
              "    </tr>\n",
              "    <tr>\n",
              "      <th>2</th>\n",
              "      <td>Josá</td>\n",
              "      <td>42</td>\n",
              "      <td>Rio de Janeiro</td>\n",
              "      <td>True</td>\n",
              "    </tr>\n",
              "    <tr>\n",
              "      <th>3</th>\n",
              "      <td>Mariana</td>\n",
              "      <td>25</td>\n",
              "      <td>Belém</td>\n",
              "      <td>False</td>\n",
              "    </tr>\n",
              "  </tbody>\n",
              "</table>\n",
              "</div>"
            ],
            "text/plain": [
              "       Nome  Idade          Cidade  Comprou\n",
              "0   Charles     35          Manaus     True\n",
              "1  Raimunda     86        Brasília    False\n",
              "2      Josá     42  Rio de Janeiro     True\n",
              "3   Mariana     25           Belém    False"
            ]
          },
          "metadata": {
            "tags": []
          },
          "execution_count": 53
        }
      ]
    },
    {
      "cell_type": "code",
      "metadata": {
        "id": "9qfTEWBzE9G2",
        "colab_type": "code",
        "colab": {
          "base_uri": "https://localhost:8080/",
          "height": 166
        },
        "outputId": "b935aa53-ae4d-4760-ec17-49cce6423d25"
      },
      "source": [
        "# Colocar os indices\n",
        "df.index=['p1','p2','p3','p4']\n",
        "df"
      ],
      "execution_count": 54,
      "outputs": [
        {
          "output_type": "execute_result",
          "data": {
            "text/html": [
              "<div>\n",
              "<style scoped>\n",
              "    .dataframe tbody tr th:only-of-type {\n",
              "        vertical-align: middle;\n",
              "    }\n",
              "\n",
              "    .dataframe tbody tr th {\n",
              "        vertical-align: top;\n",
              "    }\n",
              "\n",
              "    .dataframe thead th {\n",
              "        text-align: right;\n",
              "    }\n",
              "</style>\n",
              "<table border=\"1\" class=\"dataframe\">\n",
              "  <thead>\n",
              "    <tr style=\"text-align: right;\">\n",
              "      <th></th>\n",
              "      <th>Nome</th>\n",
              "      <th>Idade</th>\n",
              "      <th>Cidade</th>\n",
              "      <th>Comprou</th>\n",
              "    </tr>\n",
              "  </thead>\n",
              "  <tbody>\n",
              "    <tr>\n",
              "      <th>p1</th>\n",
              "      <td>Charles</td>\n",
              "      <td>35</td>\n",
              "      <td>Manaus</td>\n",
              "      <td>True</td>\n",
              "    </tr>\n",
              "    <tr>\n",
              "      <th>p2</th>\n",
              "      <td>Raimunda</td>\n",
              "      <td>86</td>\n",
              "      <td>Brasília</td>\n",
              "      <td>False</td>\n",
              "    </tr>\n",
              "    <tr>\n",
              "      <th>p3</th>\n",
              "      <td>Josá</td>\n",
              "      <td>42</td>\n",
              "      <td>Rio de Janeiro</td>\n",
              "      <td>True</td>\n",
              "    </tr>\n",
              "    <tr>\n",
              "      <th>p4</th>\n",
              "      <td>Mariana</td>\n",
              "      <td>25</td>\n",
              "      <td>Belém</td>\n",
              "      <td>False</td>\n",
              "    </tr>\n",
              "  </tbody>\n",
              "</table>\n",
              "</div>"
            ],
            "text/plain": [
              "        Nome  Idade          Cidade  Comprou\n",
              "p1   Charles     35          Manaus     True\n",
              "p2  Raimunda     86        Brasília    False\n",
              "p3      Josá     42  Rio de Janeiro     True\n",
              "p4   Mariana     25           Belém    False"
            ]
          },
          "metadata": {
            "tags": []
          },
          "execution_count": 54
        }
      ]
    },
    {
      "cell_type": "code",
      "metadata": {
        "id": "SZKg19YVFOGh",
        "colab_type": "code",
        "colab": {
          "base_uri": "https://localhost:8080/",
          "height": 105
        },
        "outputId": "393aa80c-7512-4f0c-f5a7-a07977cd0f93"
      },
      "source": [
        "#Localizar um registro,\n",
        "df.loc['p3']"
      ],
      "execution_count": 55,
      "outputs": [
        {
          "output_type": "execute_result",
          "data": {
            "text/plain": [
              "Nome                 Josá\n",
              "Idade                  42\n",
              "Cidade     Rio de Janeiro\n",
              "Comprou              True\n",
              "Name: p3, dtype: object"
            ]
          },
          "metadata": {
            "tags": []
          },
          "execution_count": 55
        }
      ]
    },
    {
      "cell_type": "markdown",
      "metadata": {
        "id": "RLWn2fAwFcKg",
        "colab_type": "text"
      },
      "source": [
        "# Adicionar colunas ao DataFrame\n",
        "Podemos ainda adicionar novas colunas no DF"
      ]
    },
    {
      "cell_type": "code",
      "metadata": {
        "id": "jOyHS17tFkLz",
        "colab_type": "code",
        "colab": {
          "base_uri": "https://localhost:8080/",
          "height": 166
        },
        "outputId": "a37f91c0-0145-4481-9bfa-0b347fb6226e"
      },
      "source": [
        "#Adicionando coluna e atribuindo valor\n",
        "df['Saldo']=[0.0,1.6,25.6,36.0]\n",
        "\n",
        "#Visualizar o DF\n",
        "df"
      ],
      "execution_count": 57,
      "outputs": [
        {
          "output_type": "execute_result",
          "data": {
            "text/html": [
              "<div>\n",
              "<style scoped>\n",
              "    .dataframe tbody tr th:only-of-type {\n",
              "        vertical-align: middle;\n",
              "    }\n",
              "\n",
              "    .dataframe tbody tr th {\n",
              "        vertical-align: top;\n",
              "    }\n",
              "\n",
              "    .dataframe thead th {\n",
              "        text-align: right;\n",
              "    }\n",
              "</style>\n",
              "<table border=\"1\" class=\"dataframe\">\n",
              "  <thead>\n",
              "    <tr style=\"text-align: right;\">\n",
              "      <th></th>\n",
              "      <th>Nome</th>\n",
              "      <th>Idade</th>\n",
              "      <th>Cidade</th>\n",
              "      <th>Comprou</th>\n",
              "      <th>Saldo</th>\n",
              "    </tr>\n",
              "  </thead>\n",
              "  <tbody>\n",
              "    <tr>\n",
              "      <th>p1</th>\n",
              "      <td>Charles</td>\n",
              "      <td>35</td>\n",
              "      <td>Manaus</td>\n",
              "      <td>True</td>\n",
              "      <td>0.0</td>\n",
              "    </tr>\n",
              "    <tr>\n",
              "      <th>p2</th>\n",
              "      <td>Raimunda</td>\n",
              "      <td>86</td>\n",
              "      <td>Brasília</td>\n",
              "      <td>False</td>\n",
              "      <td>1.6</td>\n",
              "    </tr>\n",
              "    <tr>\n",
              "      <th>p3</th>\n",
              "      <td>Josá</td>\n",
              "      <td>42</td>\n",
              "      <td>Rio de Janeiro</td>\n",
              "      <td>True</td>\n",
              "      <td>25.6</td>\n",
              "    </tr>\n",
              "    <tr>\n",
              "      <th>p4</th>\n",
              "      <td>Mariana</td>\n",
              "      <td>25</td>\n",
              "      <td>Belém</td>\n",
              "      <td>False</td>\n",
              "      <td>36.0</td>\n",
              "    </tr>\n",
              "  </tbody>\n",
              "</table>\n",
              "</div>"
            ],
            "text/plain": [
              "        Nome  Idade          Cidade  Comprou  Saldo\n",
              "p1   Charles     35          Manaus     True    0.0\n",
              "p2  Raimunda     86        Brasília    False    1.6\n",
              "p3      Josá     42  Rio de Janeiro     True   25.6\n",
              "p4   Mariana     25           Belém    False   36.0"
            ]
          },
          "metadata": {
            "tags": []
          },
          "execution_count": 57
        }
      ]
    },
    {
      "cell_type": "markdown",
      "metadata": {
        "id": "BDBfeno0GR3r",
        "colab_type": "text"
      },
      "source": [
        "##Alterando nome dos indices e colunas"
      ]
    },
    {
      "cell_type": "code",
      "metadata": {
        "id": "MdoY9NUXGWYQ",
        "colab_type": "code",
        "colab": {
          "base_uri": "https://localhost:8080/",
          "height": 166
        },
        "outputId": "895417df-7bb5-4045-e7c2-3550aec74206"
      },
      "source": [
        "# altarar nome dos indies\n",
        "df.index =[21,32,65,65]\n",
        "df"
      ],
      "execution_count": 59,
      "outputs": [
        {
          "output_type": "execute_result",
          "data": {
            "text/html": [
              "<div>\n",
              "<style scoped>\n",
              "    .dataframe tbody tr th:only-of-type {\n",
              "        vertical-align: middle;\n",
              "    }\n",
              "\n",
              "    .dataframe tbody tr th {\n",
              "        vertical-align: top;\n",
              "    }\n",
              "\n",
              "    .dataframe thead th {\n",
              "        text-align: right;\n",
              "    }\n",
              "</style>\n",
              "<table border=\"1\" class=\"dataframe\">\n",
              "  <thead>\n",
              "    <tr style=\"text-align: right;\">\n",
              "      <th></th>\n",
              "      <th>Nome</th>\n",
              "      <th>Idade</th>\n",
              "      <th>Cidade</th>\n",
              "      <th>Comprou</th>\n",
              "      <th>Saldo</th>\n",
              "    </tr>\n",
              "  </thead>\n",
              "  <tbody>\n",
              "    <tr>\n",
              "      <th>21</th>\n",
              "      <td>Charles</td>\n",
              "      <td>35</td>\n",
              "      <td>Manaus</td>\n",
              "      <td>True</td>\n",
              "      <td>0.0</td>\n",
              "    </tr>\n",
              "    <tr>\n",
              "      <th>32</th>\n",
              "      <td>Raimunda</td>\n",
              "      <td>86</td>\n",
              "      <td>Brasília</td>\n",
              "      <td>False</td>\n",
              "      <td>1.6</td>\n",
              "    </tr>\n",
              "    <tr>\n",
              "      <th>65</th>\n",
              "      <td>Josá</td>\n",
              "      <td>42</td>\n",
              "      <td>Rio de Janeiro</td>\n",
              "      <td>True</td>\n",
              "      <td>25.6</td>\n",
              "    </tr>\n",
              "    <tr>\n",
              "      <th>65</th>\n",
              "      <td>Mariana</td>\n",
              "      <td>25</td>\n",
              "      <td>Belém</td>\n",
              "      <td>False</td>\n",
              "      <td>36.0</td>\n",
              "    </tr>\n",
              "  </tbody>\n",
              "</table>\n",
              "</div>"
            ],
            "text/plain": [
              "        Nome  Idade          Cidade  Comprou  Saldo\n",
              "21   Charles     35          Manaus     True    0.0\n",
              "32  Raimunda     86        Brasília    False    1.6\n",
              "65      Josá     42  Rio de Janeiro     True   25.6\n",
              "65   Mariana     25           Belém    False   36.0"
            ]
          },
          "metadata": {
            "tags": []
          },
          "execution_count": 59
        }
      ]
    },
    {
      "cell_type": "code",
      "metadata": {
        "id": "wgGXvfChGlNR",
        "colab_type": "code",
        "colab": {
          "base_uri": "https://localhost:8080/",
          "height": 166
        },
        "outputId": "d58724f5-8264-4492-91c7-b7fbdf06d3d1"
      },
      "source": [
        "#alterar o nome das colunas\n",
        "df.columns=['NOME','IDADE','CIDADE','AMAZON','SALDO']\n",
        "df"
      ],
      "execution_count": 61,
      "outputs": [
        {
          "output_type": "execute_result",
          "data": {
            "text/html": [
              "<div>\n",
              "<style scoped>\n",
              "    .dataframe tbody tr th:only-of-type {\n",
              "        vertical-align: middle;\n",
              "    }\n",
              "\n",
              "    .dataframe tbody tr th {\n",
              "        vertical-align: top;\n",
              "    }\n",
              "\n",
              "    .dataframe thead th {\n",
              "        text-align: right;\n",
              "    }\n",
              "</style>\n",
              "<table border=\"1\" class=\"dataframe\">\n",
              "  <thead>\n",
              "    <tr style=\"text-align: right;\">\n",
              "      <th></th>\n",
              "      <th>NOME</th>\n",
              "      <th>IDADE</th>\n",
              "      <th>CIDADE</th>\n",
              "      <th>AMAZON</th>\n",
              "      <th>SALDO</th>\n",
              "    </tr>\n",
              "  </thead>\n",
              "  <tbody>\n",
              "    <tr>\n",
              "      <th>21</th>\n",
              "      <td>Charles</td>\n",
              "      <td>35</td>\n",
              "      <td>Manaus</td>\n",
              "      <td>True</td>\n",
              "      <td>0.0</td>\n",
              "    </tr>\n",
              "    <tr>\n",
              "      <th>32</th>\n",
              "      <td>Raimunda</td>\n",
              "      <td>86</td>\n",
              "      <td>Brasília</td>\n",
              "      <td>False</td>\n",
              "      <td>1.6</td>\n",
              "    </tr>\n",
              "    <tr>\n",
              "      <th>65</th>\n",
              "      <td>Josá</td>\n",
              "      <td>42</td>\n",
              "      <td>Rio de Janeiro</td>\n",
              "      <td>True</td>\n",
              "      <td>25.6</td>\n",
              "    </tr>\n",
              "    <tr>\n",
              "      <th>65</th>\n",
              "      <td>Mariana</td>\n",
              "      <td>25</td>\n",
              "      <td>Belém</td>\n",
              "      <td>False</td>\n",
              "      <td>36.0</td>\n",
              "    </tr>\n",
              "  </tbody>\n",
              "</table>\n",
              "</div>"
            ],
            "text/plain": [
              "        NOME  IDADE          CIDADE  AMAZON  SALDO\n",
              "21   Charles     35          Manaus    True    0.0\n",
              "32  Raimunda     86        Brasília   False    1.6\n",
              "65      Josá     42  Rio de Janeiro    True   25.6\n",
              "65   Mariana     25           Belém   False   36.0"
            ]
          },
          "metadata": {
            "tags": []
          },
          "execution_count": 61
        }
      ]
    }
  ]
}