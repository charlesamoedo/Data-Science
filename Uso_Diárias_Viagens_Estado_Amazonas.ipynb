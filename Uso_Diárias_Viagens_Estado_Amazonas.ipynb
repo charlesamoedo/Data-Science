{
  "nbformat": 4,
  "nbformat_minor": 0,
  "metadata": {
    "colab": {
      "name": "Copy of [Template] Analisando Diárias e Viagens Amazonas.ipynb",
      "provenance": [],
      "collapsed_sections": [],
      "include_colab_link": true
    },
    "kernelspec": {
      "name": "python3",
      "display_name": "Python 3"
    }
  },
  "cells": [
    {
      "cell_type": "markdown",
      "metadata": {
        "id": "view-in-github",
        "colab_type": "text"
      },
      "source": [
        "<a href=\"https://colab.research.google.com/github/charlesamoedo/Data-Science/blob/master/Uso_Di%C3%A1rias_Viagens_Estado_Amazonas.ipynb\" target=\"_parent\"><img src=\"https://colab.research.google.com/assets/colab-badge.svg\" alt=\"Open In Colab\"/></a>"
      ]
    },
    {
      "cell_type": "markdown",
      "metadata": {
        "id": "kLI0gJtzDGuQ",
        "colab_type": "text"
      },
      "source": [
        "**Revisão: 18/06/2020**\n",
        "\n",
        "\n",
        "#### **Data Science**\n",
        "*by [Charles Amoêdo](https://medium.com/@charlesamoedo)*\n",
        "\n",
        "---\n",
        "\n",
        "# Análise dos Valores de Diárias e Passagens do Estado do Amazonas\n",
        "\n",
        "O [Portal da Transparência do Estado do Amazonas](http://www.transparencia.am.gov.br/), divulga os dados do Poder Executivo e é uma excelente fonte para análise de dados.\n",
        "\n",
        "\n",
        "**A Lei n.12.527 (Lei de Acesso à Informação) garante acesso aos dados.**\n",
        "\n",
        "**Neste note book**, faremos análise dos valores de diárias e passagens e mostrar os limites de gastos por Ógão do Governo do Estado do Amazonas, para 2020 e ainda, as quantidades e valores utilizados até o momento.\n",
        "\n",
        "Esta análise será dividida em duas partes:\n",
        "* 1ª relacionada à tabela de valores das diárias por categoria\n",
        "* 2ª Relacionada ao uso das diárias\n"
      ]
    },
    {
      "cell_type": "markdown",
      "metadata": {
        "id": "0zxQHhIUDF_2",
        "colab_type": "text"
      },
      "source": [
        "## Obtenção dos Dados\n",
        "Os dados utilizados aqui foram obtidos a partir do [Portal da Transparência do Estado do Amazonas](http://www.transparencia.am.gov.br/) e o processamento foi o seguinte:\n",
        "#### Dados por Categoria e Ógãos do Governo:\n",
        "Objetivo: Exibir Tabela de valores das diárias por categoria.\n",
        "\n",
        "* a) [Tabela de valores de Diárias](http://www.transparencia.am.gov.br/wp-content/uploads/2020/02/Tabela-de-Valores-de-Di%C3%A1rias-dentro-do-Estado-fora-do-Estado-e-fora-do-Pa%C3%ADs.pdf) (PDF)\n",
        "* b) A conversão do arquivo PDF para .csv foi feita através do site [FreeConverter](https://www.freepdfconvert.com/).\n",
        "* c) Gerado então o arquivo **ValorDiarias_Am.csv**\n",
        "* d) Utilizando o excel, Foi criada uma coluna categoria para cada registro da tabela e justados os cabeçaçhos das colunas."
      ]
    },
    {
      "cell_type": "markdown",
      "metadata": {
        "id": "7Uq3xATY1VnW",
        "colab_type": "text"
      },
      "source": [
        "## 1º - Valores das diárias por categoria:\n"
      ]
    },
    {
      "cell_type": "markdown",
      "metadata": {
        "id": "qb5By2nIMS6m",
        "colab_type": "text"
      },
      "source": [
        "### Análise dos Dados\n"
      ]
    },
    {
      "cell_type": "code",
      "metadata": {
        "id": "Vhp2wMPgJ6zX",
        "colab_type": "code",
        "colab": {}
      },
      "source": [
        "# importar os pacotes necessarios\n",
        "import pandas as pd\n",
        "import matplotlib.pyplot as plt\n",
        "import seaborn as sns\n",
        "%matplotlib inline"
      ],
      "execution_count": 3,
      "outputs": []
    },
    {
      "cell_type": "code",
      "metadata": {
        "id": "tUmoAT8DLQ5T",
        "colab_type": "code",
        "colab": {}
      },
      "source": [
        "# importar o arquivo listings.csv para um DataFrame\n",
        "# df = pd.read_csv(\"/content/sample_data/ValorDiarias_Am.csv\")\n",
        "df =pd.read_csv(\"https://raw.githubusercontent.com/charlesamoedo/Data-Science/master/datasets/ValorDiarias_Am.csv\")"
      ],
      "execution_count": 9,
      "outputs": []
    },
    {
      "cell_type": "markdown",
      "metadata": {
        "id": "RYgvuebKNg8-",
        "colab_type": "text"
      },
      "source": [
        "**Dicionário das variáveis**\n",
        "\n",
        "* CATEGORIA - Categoria de cargo ou função              \n",
        "* CARGOS_FUNÇOES -  Cargo ou função\n",
        "* NO_ESTADO_R - Valor em Reais da diária no estado\n",
        "* FORA_DO_ESTADO_R - Valor em Reais da diária fora do estado\n",
        "* CONTINENTE_AMERICANO_US - Valor em Dólar da diária no continente Americano\n",
        "* OUTROS_PAISES_US - - Valor em Dólar da em outros países\n",
        "\n",
        "Dados do *dataset*, analisando as 5 primeiras entradas."
      ]
    },
    {
      "cell_type": "code",
      "metadata": {
        "id": "2iS_dae7YQtO",
        "colab_type": "code",
        "colab": {
          "base_uri": "https://localhost:8080/",
          "height": 195
        },
        "outputId": "66af121b-ad73-48d3-f6b3-6c45bcf06fff"
      },
      "source": [
        "# mostrar as 5 primeiras entradas\n",
        "df.head()"
      ],
      "execution_count": 10,
      "outputs": [
        {
          "output_type": "execute_result",
          "data": {
            "text/html": [
              "<div>\n",
              "<style scoped>\n",
              "    .dataframe tbody tr th:only-of-type {\n",
              "        vertical-align: middle;\n",
              "    }\n",
              "\n",
              "    .dataframe tbody tr th {\n",
              "        vertical-align: top;\n",
              "    }\n",
              "\n",
              "    .dataframe thead th {\n",
              "        text-align: right;\n",
              "    }\n",
              "</style>\n",
              "<table border=\"1\" class=\"dataframe\">\n",
              "  <thead>\n",
              "    <tr style=\"text-align: right;\">\n",
              "      <th></th>\n",
              "      <th>CATEGORIA</th>\n",
              "      <th>CARGOS_FUNÇOES</th>\n",
              "      <th>NO_ESTADO_R</th>\n",
              "      <th>FORA_DO_ESTADO_R</th>\n",
              "      <th>CONTINENTE_AMERICANO_US</th>\n",
              "      <th>OUTROS_PAISES_US</th>\n",
              "    </tr>\n",
              "  </thead>\n",
              "  <tbody>\n",
              "    <tr>\n",
              "      <th>0</th>\n",
              "      <td>CAT1</td>\n",
              "      <td>Secretário de Estado</td>\n",
              "      <td>252.0</td>\n",
              "      <td>395.0</td>\n",
              "      <td>360.0</td>\n",
              "      <td>500.0</td>\n",
              "    </tr>\n",
              "    <tr>\n",
              "      <th>1</th>\n",
              "      <td>CAT1</td>\n",
              "      <td>Secretário do Gabinete Pessoal do Governador</td>\n",
              "      <td>252.0</td>\n",
              "      <td>395.0</td>\n",
              "      <td>360.0</td>\n",
              "      <td>500.0</td>\n",
              "    </tr>\n",
              "    <tr>\n",
              "      <th>2</th>\n",
              "      <td>CAT1</td>\n",
              "      <td>Controlador Geral do Estado</td>\n",
              "      <td>252.0</td>\n",
              "      <td>395.0</td>\n",
              "      <td>360.0</td>\n",
              "      <td>500.0</td>\n",
              "    </tr>\n",
              "    <tr>\n",
              "      <th>3</th>\n",
              "      <td>CAT1</td>\n",
              "      <td>Procurador Geral do Estado</td>\n",
              "      <td>252.0</td>\n",
              "      <td>395.0</td>\n",
              "      <td>360.0</td>\n",
              "      <td>500.0</td>\n",
              "    </tr>\n",
              "    <tr>\n",
              "      <th>4</th>\n",
              "      <td>CAT1</td>\n",
              "      <td>Ouvidor Geral do Estado</td>\n",
              "      <td>252.0</td>\n",
              "      <td>395.0</td>\n",
              "      <td>360.0</td>\n",
              "      <td>500.0</td>\n",
              "    </tr>\n",
              "  </tbody>\n",
              "</table>\n",
              "</div>"
            ],
            "text/plain": [
              "  CATEGORIA  ... OUTROS_PAISES_US\n",
              "0      CAT1  ...            500.0\n",
              "1      CAT1  ...            500.0\n",
              "2      CAT1  ...            500.0\n",
              "3      CAT1  ...            500.0\n",
              "4      CAT1  ...            500.0\n",
              "\n",
              "[5 rows x 6 columns]"
            ]
          },
          "metadata": {
            "tags": []
          },
          "execution_count": 10
        }
      ]
    },
    {
      "cell_type": "markdown",
      "metadata": {
        "id": "6-B_qtEaYEd-",
        "colab_type": "text"
      },
      "source": [
        "### **Q1. Quantos atributos (variáveis) e quantas entradas o nosso conjunto de dados possui? Quais os tipos das variáveis?**"
      ]
    },
    {
      "cell_type": "code",
      "metadata": {
        "id": "TFRK0tniLV-G",
        "colab_type": "code",
        "colab": {
          "base_uri": "https://localhost:8080/",
          "height": 210
        },
        "outputId": "50bc8234-f2b1-4c12-e0b7-f54aeb94e025"
      },
      "source": [
        "# identificar o volume de dados do DataFrame\n",
        "print(\"Entradas:\\t {}\".format(df.shape[0]))\n",
        "print(\"Variáveis:\\t {}\".format(df.shape[1]))\n",
        "print('\\n')\n",
        "\n",
        "# verificar os tipos de variáveis do dataset\n",
        "display(df.dtypes);\n"
      ],
      "execution_count": 7,
      "outputs": [
        {
          "output_type": "stream",
          "text": [
            "Entradas:\t 56\n",
            "Variáveis:\t 6\n",
            "\n",
            "\n"
          ],
          "name": "stdout"
        },
        {
          "output_type": "display_data",
          "data": {
            "text/plain": [
              "CATEGORIA                   object\n",
              "CARGOS_FUNÇOES              object\n",
              "NO_ESTADO_R                float64\n",
              "FORA_DO_ESTADO_R           float64\n",
              "CONTINENTE_AMERICANO_US    float64\n",
              "OUTROS_PAISES_US           float64\n",
              "dtype: object"
            ]
          },
          "metadata": {
            "tags": []
          }
        }
      ]
    },
    {
      "cell_type": "markdown",
      "metadata": {
        "id": "yz1urSUGW9iE",
        "colab_type": "text"
      },
      "source": [
        "### **Q2. Qual a porcentagem de valores ausentes no *dataset*?**\n",
        "* É possível notar que não há dados ausentes no **dataset**"
      ]
    },
    {
      "cell_type": "code",
      "metadata": {
        "id": "plk2FjbCXOqP",
        "colab_type": "code",
        "colab": {
          "base_uri": "https://localhost:8080/",
          "height": 140
        },
        "outputId": "95665ba6-06b0-4cc2-c947-34cf2f6671f8"
      },
      "source": [
        "# ordenar em ordem decrescente as variáveis por seus valores ausentes\n",
        "(df.isnull().sum() / df.shape[0]).sort_values(ascending=False)"
      ],
      "execution_count": null,
      "outputs": [
        {
          "output_type": "execute_result",
          "data": {
            "text/plain": [
              "OUTROS_PAISES_US           0.0\n",
              "CONTINENTE_AMERICANO_US    0.0\n",
              "FORA_DO_ESTADO_R           0.0\n",
              "NO_ESTADO_R                0.0\n",
              "CARGOS_FUNÇOES             0.0\n",
              "CATEGORIA                  0.0\n",
              "dtype: float64"
            ]
          },
          "metadata": {
            "tags": []
          },
          "execution_count": 107
        }
      ]
    },
    {
      "cell_type": "markdown",
      "metadata": {
        "id": "iHXvvHIxaoNc",
        "colab_type": "text"
      },
      "source": [
        "### **Q3. Qual o tipo de distribuição das variáveis?** "
      ]
    },
    {
      "cell_type": "code",
      "metadata": {
        "id": "q2wWSfeRbmBo",
        "colab_type": "code",
        "colab": {
          "base_uri": "https://localhost:8080/",
          "height": 326
        },
        "outputId": "dc78683a-9cbe-4829-eb0a-b4217a7df3d5"
      },
      "source": [
        "# plotar o histograma das variáveis numéricas\n",
        "df.hist(bins=10, figsize=(20,5));"
      ],
      "execution_count": null,
      "outputs": [
        {
          "output_type": "display_data",
          "data": {
            "image/png": "[encoded data removed]",
            "text/plain": [
              "<Figure size 1440x360 with 4 Axes>"
            ]
          },
          "metadata": {
            "tags": [],
            "needs_background": "light"
          }
        }
      ]
    },
    {
      "cell_type": "markdown",
      "metadata": {
        "id": "7x4aw1j5wNmn",
        "colab_type": "text"
      },
      "source": [
        "### **Q4. Qual a média dos valores das diárias?**\n",
        "* Abaixo o resumo estatístico dos valores das variáveis numericas.\n"
      ]
    },
    {
      "cell_type": "code",
      "metadata": {
        "id": "ff-8gUahLk-C",
        "colab_type": "code",
        "colab": {
          "base_uri": "https://localhost:8080/",
          "height": 284
        },
        "outputId": "db343431-466d-4ed5-c9d9-fa66394fb046"
      },
      "source": [
        "# ver a média dos valores\n",
        "df[['NO_ESTADO_R','FORA_DO_ESTADO_R','CONTINENTE_AMERICANO_US','OUTROS_PAISES_US']].describe()"
      ],
      "execution_count": null,
      "outputs": [
        {
          "output_type": "execute_result",
          "data": {
            "text/html": [
              "<div>\n",
              "<style scoped>\n",
              "    .dataframe tbody tr th:only-of-type {\n",
              "        vertical-align: middle;\n",
              "    }\n",
              "\n",
              "    .dataframe tbody tr th {\n",
              "        vertical-align: top;\n",
              "    }\n",
              "\n",
              "    .dataframe thead th {\n",
              "        text-align: right;\n",
              "    }\n",
              "</style>\n",
              "<table border=\"1\" class=\"dataframe\">\n",
              "  <thead>\n",
              "    <tr style=\"text-align: right;\">\n",
              "      <th></th>\n",
              "      <th>NO_ESTADO_R</th>\n",
              "      <th>FORA_DO_ESTADO_R</th>\n",
              "      <th>CONTINENTE_AMERICANO_US</th>\n",
              "      <th>OUTROS_PAISES_US</th>\n",
              "    </tr>\n",
              "  </thead>\n",
              "  <tbody>\n",
              "    <tr>\n",
              "      <th>count</th>\n",
              "      <td>56.000000</td>\n",
              "      <td>56.000000</td>\n",
              "      <td>56.000000</td>\n",
              "      <td>56.000000</td>\n",
              "    </tr>\n",
              "    <tr>\n",
              "      <th>mean</th>\n",
              "      <td>160.375000</td>\n",
              "      <td>275.892857</td>\n",
              "      <td>262.678571</td>\n",
              "      <td>392.321429</td>\n",
              "    </tr>\n",
              "    <tr>\n",
              "      <th>std</th>\n",
              "      <td>81.154076</td>\n",
              "      <td>131.749442</td>\n",
              "      <td>120.732478</td>\n",
              "      <td>175.374830</td>\n",
              "    </tr>\n",
              "    <tr>\n",
              "      <th>min</th>\n",
              "      <td>0.000000</td>\n",
              "      <td>0.000000</td>\n",
              "      <td>0.000000</td>\n",
              "      <td>0.000000</td>\n",
              "    </tr>\n",
              "    <tr>\n",
              "      <th>25%</th>\n",
              "      <td>132.000000</td>\n",
              "      <td>252.000000</td>\n",
              "      <td>250.000000</td>\n",
              "      <td>410.000000</td>\n",
              "    </tr>\n",
              "    <tr>\n",
              "      <th>50%</th>\n",
              "      <td>182.000000</td>\n",
              "      <td>327.000000</td>\n",
              "      <td>310.000000</td>\n",
              "      <td>470.000000</td>\n",
              "    </tr>\n",
              "    <tr>\n",
              "      <th>75%</th>\n",
              "      <td>182.000000</td>\n",
              "      <td>327.000000</td>\n",
              "      <td>310.000000</td>\n",
              "      <td>470.000000</td>\n",
              "    </tr>\n",
              "    <tr>\n",
              "      <th>max</th>\n",
              "      <td>252.000000</td>\n",
              "      <td>395.000000</td>\n",
              "      <td>360.000000</td>\n",
              "      <td>500.000000</td>\n",
              "    </tr>\n",
              "  </tbody>\n",
              "</table>\n",
              "</div>"
            ],
            "text/plain": [
              "       NO_ESTADO_R  FORA_DO_ESTADO_R  CONTINENTE_AMERICANO_US  OUTROS_PAISES_US\n",
              "count    56.000000         56.000000                56.000000         56.000000\n",
              "mean    160.375000        275.892857               262.678571        392.321429\n",
              "std      81.154076        131.749442               120.732478        175.374830\n",
              "min       0.000000          0.000000                 0.000000          0.000000\n",
              "25%     132.000000        252.000000               250.000000        410.000000\n",
              "50%     182.000000        327.000000               310.000000        470.000000\n",
              "75%     182.000000        327.000000               310.000000        470.000000\n",
              "max     252.000000        395.000000               360.000000        500.000000"
            ]
          },
          "metadata": {
            "tags": []
          },
          "execution_count": 109
        }
      ]
    },
    {
      "cell_type": "markdown",
      "metadata": {
        "id": "-KjELVqpmXFL",
        "colab_type": "text"
      },
      "source": [
        "Observamos:\n",
        "###a) que a **média e mediana** respectivamente para cada destino são:\n",
        "* NO_ESTADO_R$ **(160,37 / 182,00)**\n",
        "\n",
        "* FORA_DO_ESTADO_R$ **(275,89 / 327,00)**\n",
        "\n",
        "* CONTINENTE_AMERICANO_US$ **(262,67 / 310,00)**\n",
        "\n",
        "* OUTROS_PAISES_US$ **(392,32 / 470,00)**\n",
        "\n",
        "###b) 75% dos valores são entre 72% e 94% do seu limite máximo\n"
      ]
    },
    {
      "cell_type": "markdown",
      "metadata": {
        "id": "IXn2oIo5qx-w",
        "colab_type": "text"
      },
      "source": [
        "### **Q4. Qual a correlação existente entre as variáveis**\n",
        "* Criada matriz de correlação\n",
        "* Gerar um heatmap a partir dessa matriz, usando a biblioteca `seaborn`"
      ]
    },
    {
      "cell_type": "code",
      "metadata": {
        "id": "x2ayzBajqxyd",
        "colab_type": "code",
        "colab": {
          "base_uri": "https://localhost:8080/",
          "height": 166
        },
        "outputId": "0ebae2c0-9011-45b7-cc55-0a17ee3dea1c"
      },
      "source": [
        "# criar uma matriz de correlação\n",
        "corr = df[['NO_ESTADO_R','FORA_DO_ESTADO_R','CONTINENTE_AMERICANO_US','OUTROS_PAISES_US']].corr()\n",
        "display(corr)\n",
        "# mostrar a matriz de correlação\n"
      ],
      "execution_count": null,
      "outputs": [
        {
          "output_type": "display_data",
          "data": {
            "text/html": [
              "<div>\n",
              "<style scoped>\n",
              "    .dataframe tbody tr th:only-of-type {\n",
              "        vertical-align: middle;\n",
              "    }\n",
              "\n",
              "    .dataframe tbody tr th {\n",
              "        vertical-align: top;\n",
              "    }\n",
              "\n",
              "    .dataframe thead th {\n",
              "        text-align: right;\n",
              "    }\n",
              "</style>\n",
              "<table border=\"1\" class=\"dataframe\">\n",
              "  <thead>\n",
              "    <tr style=\"text-align: right;\">\n",
              "      <th></th>\n",
              "      <th>NO_ESTADO_R</th>\n",
              "      <th>FORA_DO_ESTADO_R</th>\n",
              "      <th>CONTINENTE_AMERICANO_US</th>\n",
              "      <th>OUTROS_PAISES_US</th>\n",
              "    </tr>\n",
              "  </thead>\n",
              "  <tbody>\n",
              "    <tr>\n",
              "      <th>NO_ESTADO_R</th>\n",
              "      <td>1.000000</td>\n",
              "      <td>0.987750</td>\n",
              "      <td>0.972197</td>\n",
              "      <td>0.933877</td>\n",
              "    </tr>\n",
              "    <tr>\n",
              "      <th>FORA_DO_ESTADO_R</th>\n",
              "      <td>0.987750</td>\n",
              "      <td>1.000000</td>\n",
              "      <td>0.992424</td>\n",
              "      <td>0.971466</td>\n",
              "    </tr>\n",
              "    <tr>\n",
              "      <th>CONTINENTE_AMERICANO_US</th>\n",
              "      <td>0.972197</td>\n",
              "      <td>0.992424</td>\n",
              "      <td>1.000000</td>\n",
              "      <td>0.991510</td>\n",
              "    </tr>\n",
              "    <tr>\n",
              "      <th>OUTROS_PAISES_US</th>\n",
              "      <td>0.933877</td>\n",
              "      <td>0.971466</td>\n",
              "      <td>0.991510</td>\n",
              "      <td>1.000000</td>\n",
              "    </tr>\n",
              "  </tbody>\n",
              "</table>\n",
              "</div>"
            ],
            "text/plain": [
              "                         NO_ESTADO_R  ...  OUTROS_PAISES_US\n",
              "NO_ESTADO_R                 1.000000  ...          0.933877\n",
              "FORA_DO_ESTADO_R            0.987750  ...          0.971466\n",
              "CONTINENTE_AMERICANO_US     0.972197  ...          0.991510\n",
              "OUTROS_PAISES_US            0.933877  ...          1.000000\n",
              "\n",
              "[4 rows x 4 columns]"
            ]
          },
          "metadata": {
            "tags": []
          }
        }
      ]
    },
    {
      "cell_type": "code",
      "metadata": {
        "id": "91UujDr6ueqE",
        "colab_type": "code",
        "colab": {
          "base_uri": "https://localhost:8080/",
          "height": 408
        },
        "outputId": "cd894e19-be81-4d5b-c68b-f037241a5d73"
      },
      "source": [
        "# plotar um heatmap a partir das correlações\n",
        "sns.heatmap(corr, cmap='RdBu', fmt='.2f', square=True, linecolor='white', annot=True);"
      ],
      "execution_count": null,
      "outputs": [
        {
          "output_type": "display_data",
          "data": {
            "image/png": "[encoded data removed]",
            "text/plain": [
              "<Figure size 432x288 with 2 Axes>"
            ]
          },
          "metadata": {
            "tags": [],
            "needs_background": "light"
          }
        }
      ]
    },
    {
      "cell_type": "markdown",
      "metadata": {
        "colab_type": "text",
        "id": "NmRYvbztx4Pg"
      },
      "source": [
        "## 2º - Valores das diárias por categoria:\n"
      ]
    },
    {
      "cell_type": "markdown",
      "metadata": {
        "colab_type": "text",
        "id": "elgzDvnrzwiK"
      },
      "source": [
        "## Obtenção dos Dados\n",
        "Os dados utilizados aqui foram obtidos a partir do [Portal da Transparência do Estado do Amazonas](http://www.transparencia.am.gov.br/) e o processamento foi o seguinte:\n",
        "#### Dados por Categoria e Ógãos do Governo:\n",
        "Objetivo: Exibir de valores e quantidades das diárias utilizadas por Órgão do Estado do Amazonas.\n",
        "\n",
        "* a) [Quantidade de Diárias](http://www.transparencia.am.gov.br/diarias-e-passagens/# (CSV)\n",
        " * Nome Original do Arquivo: Diárias e passagens - Portal da Transparência  Portal da Transparência - Portal da Transparência do Governo do Estado do Amazonas.csv\n",
        "* b) Gerado então o arquivo **diarias_orgaos.csv**"
      ]
    },
    {
      "cell_type": "markdown",
      "metadata": {
        "colab_type": "text",
        "id": "-mpLAoHnxtQD"
      },
      "source": [
        "### Análise dos Dados\n"
      ]
    },
    {
      "cell_type": "code",
      "metadata": {
        "colab_type": "code",
        "id": "6__OTLIQwHj5",
        "colab": {}
      },
      "source": [
        "# importar os pacotes necessarios\n",
        "import pandas as pd\n",
        "import matplotlib.pyplot as plt\n",
        "import seaborn as sns\n",
        "%matplotlib inline"
      ],
      "execution_count": 8,
      "outputs": []
    },
    {
      "cell_type": "code",
      "metadata": {
        "colab_type": "code",
        "id": "vmJqeCw6znUy",
        "colab": {}
      },
      "source": [
        "# importar o arquivo listings.csv para um DataFrame\n",
        "df_di = pd.read_csv(\"https://raw.githubusercontent.com/charlesamoedo/Data-Science/master/datasets/diarias.csv\")"
      ],
      "execution_count": 11,
      "outputs": []
    },
    {
      "cell_type": "markdown",
      "metadata": {
        "colab_type": "text",
        "id": "IeI2KvbP5DeG"
      },
      "source": [
        "**Dicionário das variáveis**\n",
        "\n",
        "* Órgão - Órgão que utilizoou as diárias              \n",
        "* Quantidade -  Quantidade de diárias\n",
        "* Gasto Total - Valor em Reais\n",
        "\n",
        "Dados do *dataset*, analisando as 5 primeiras entradas."
      ]
    },
    {
      "cell_type": "code",
      "metadata": {
        "id": "INOi5o3T3F5B",
        "colab_type": "code",
        "colab": {
          "base_uri": "https://localhost:8080/",
          "height": 195
        },
        "outputId": "5a97cb50-5386-42e4-ad9c-fddc179d11a1"
      },
      "source": [
        "# mostrar as 5 primeiras entradas\n",
        "df_di.head()"
      ],
      "execution_count": 12,
      "outputs": [
        {
          "output_type": "execute_result",
          "data": {
            "text/html": [
              "<div>\n",
              "<style scoped>\n",
              "    .dataframe tbody tr th:only-of-type {\n",
              "        vertical-align: middle;\n",
              "    }\n",
              "\n",
              "    .dataframe tbody tr th {\n",
              "        vertical-align: top;\n",
              "    }\n",
              "\n",
              "    .dataframe thead th {\n",
              "        text-align: right;\n",
              "    }\n",
              "</style>\n",
              "<table border=\"1\" class=\"dataframe\">\n",
              "  <thead>\n",
              "    <tr style=\"text-align: right;\">\n",
              "      <th></th>\n",
              "      <th>Orgao</th>\n",
              "      <th>Quantidade</th>\n",
              "      <th>Gasto_Total</th>\n",
              "    </tr>\n",
              "  </thead>\n",
              "  <tbody>\n",
              "    <tr>\n",
              "      <th>0</th>\n",
              "      <td>ADAF-AM</td>\n",
              "      <td>2000.0</td>\n",
              "      <td>313832.50</td>\n",
              "    </tr>\n",
              "    <tr>\n",
              "      <th>1</th>\n",
              "      <td>ADS</td>\n",
              "      <td>154.0</td>\n",
              "      <td>22439.50</td>\n",
              "    </tr>\n",
              "    <tr>\n",
              "      <th>2</th>\n",
              "      <td>AMAZONASTUR</td>\n",
              "      <td>260.5</td>\n",
              "      <td>129834.10</td>\n",
              "    </tr>\n",
              "    <tr>\n",
              "      <th>3</th>\n",
              "      <td>AMAZONPREV</td>\n",
              "      <td>67.5</td>\n",
              "      <td>17535.00</td>\n",
              "    </tr>\n",
              "    <tr>\n",
              "      <th>4</th>\n",
              "      <td>CASA CIVIL</td>\n",
              "      <td>390.0</td>\n",
              "      <td>99911.09</td>\n",
              "    </tr>\n",
              "  </tbody>\n",
              "</table>\n",
              "</div>"
            ],
            "text/plain": [
              "         Orgao  Quantidade  Gasto_Total\n",
              "0      ADAF-AM      2000.0    313832.50\n",
              "1          ADS       154.0     22439.50\n",
              "2  AMAZONASTUR       260.5    129834.10\n",
              "3   AMAZONPREV        67.5     17535.00\n",
              "4   CASA CIVIL       390.0     99911.09"
            ]
          },
          "metadata": {
            "tags": []
          },
          "execution_count": 12
        }
      ]
    },
    {
      "cell_type": "markdown",
      "metadata": {
        "colab_type": "text",
        "id": "xbC_k1fzzaec"
      },
      "source": [
        "### **Q1. Quantos atributos (variáveis) e quantas entradas o nosso conjunto de dados possui? Quais os tipos das variáveis?**"
      ]
    },
    {
      "cell_type": "code",
      "metadata": {
        "id": "3tL27ORq6C3y",
        "colab_type": "code",
        "colab": {
          "base_uri": "https://localhost:8080/",
          "height": 122
        },
        "outputId": "3a2ac4cc-53f2-4ddc-a698-f09f859aff0b"
      },
      "source": [
        "# identificar o volume de dados do DataFrame\n",
        "print(\"Entradas:\\t {}\".format(df_di.shape[0]))\n",
        "print(\"Variáveis:\\t {}\".format(df_di.shape[1]))\n",
        "\n",
        "# verificar os tipos de variáveis do dataset\n",
        "display(df_di.dtypes);"
      ],
      "execution_count": null,
      "outputs": [
        {
          "output_type": "stream",
          "text": [
            "Entradas:\t 46\n",
            "Variáveis:\t 3\n"
          ],
          "name": "stdout"
        },
        {
          "output_type": "display_data",
          "data": {
            "text/plain": [
              "Orgao           object\n",
              "Quantidade     float64\n",
              "Gasto_Total    float64\n",
              "dtype: object"
            ]
          },
          "metadata": {
            "tags": []
          }
        }
      ]
    },
    {
      "cell_type": "markdown",
      "metadata": {
        "colab_type": "text",
        "id": "FaAobkzE7Egb"
      },
      "source": [
        "### **Q2. Qual a porcentagem de valores ausentes no *dataset*?**\n",
        "* É possível notar que não há dados ausentes no **dataset**"
      ]
    },
    {
      "cell_type": "code",
      "metadata": {
        "colab_type": "code",
        "id": "devobCXF7IiA",
        "colab": {
          "base_uri": "https://localhost:8080/",
          "height": 87
        },
        "outputId": "587ede44-bd81-4414-baa5-679e38978c2f"
      },
      "source": [
        "# ordenar em ordem decrescente as variáveis por seus valores ausentes\n",
        "(df_di.isnull().sum() / df_di.shape[0]).sort_values(ascending=False)"
      ],
      "execution_count": null,
      "outputs": [
        {
          "output_type": "execute_result",
          "data": {
            "text/plain": [
              "Gasto_Total    0.0\n",
              "Quantidade     0.0\n",
              "Orgao          0.0\n",
              "dtype: float64"
            ]
          },
          "metadata": {
            "tags": []
          },
          "execution_count": 106
        }
      ]
    },
    {
      "cell_type": "markdown",
      "metadata": {
        "colab_type": "text",
        "id": "T9k19vHM7SFG"
      },
      "source": [
        "### **Q3. Qual o tipo de distribuição das variáveis?** "
      ]
    },
    {
      "cell_type": "code",
      "metadata": {
        "colab_type": "code",
        "id": "6-_cYKWs7UvE",
        "colab": {
          "base_uri": "https://localhost:8080/",
          "height": 336
        },
        "outputId": "33cc4f07-9593-470c-f82f-cdd8c71ced8c"
      },
      "source": [
        "# plotar o histograma das variáveis numéricas\n",
        "df_di.hist(bins=5, figsize=(10,5));"
      ],
      "execution_count": null,
      "outputs": [
        {
          "output_type": "display_data",
          "data": {
            "image/png": "[encoded data removed]",
            "text/plain": [
              "<Figure size 720x360 with 2 Axes>"
            ]
          },
          "metadata": {
            "tags": [],
            "needs_background": "light"
          }
        }
      ]
    },
    {
      "cell_type": "markdown",
      "metadata": {
        "colab_type": "text",
        "id": "rDsgKyDWqK82"
      },
      "source": [
        "### **Q4. Qual a média dos valores das diárias?**\n",
        "* Abaixo o resumo estatístico dos valores das variáveis numericas.\n"
      ]
    },
    {
      "cell_type": "code",
      "metadata": {
        "id": "Y_maJzMPqTt_",
        "colab_type": "code",
        "colab": {
          "base_uri": "https://localhost:8080/",
          "height": 284
        },
        "outputId": "4ccfc58a-82ab-4b69-8fe0-8715479900fe"
      },
      "source": [
        "# ver a média dos valores\n",
        "df_di[['Quantidade','Gasto_Total']].describe()"
      ],
      "execution_count": null,
      "outputs": [
        {
          "output_type": "execute_result",
          "data": {
            "text/html": [
              "<div>\n",
              "<style scoped>\n",
              "    .dataframe tbody tr th:only-of-type {\n",
              "        vertical-align: middle;\n",
              "    }\n",
              "\n",
              "    .dataframe tbody tr th {\n",
              "        vertical-align: top;\n",
              "    }\n",
              "\n",
              "    .dataframe thead th {\n",
              "        text-align: right;\n",
              "    }\n",
              "</style>\n",
              "<table border=\"1\" class=\"dataframe\">\n",
              "  <thead>\n",
              "    <tr style=\"text-align: right;\">\n",
              "      <th></th>\n",
              "      <th>Quantidade</th>\n",
              "      <th>Gasto_Total</th>\n",
              "    </tr>\n",
              "  </thead>\n",
              "  <tbody>\n",
              "    <tr>\n",
              "      <th>count</th>\n",
              "      <td>46.000000</td>\n",
              "      <td>46.000000</td>\n",
              "    </tr>\n",
              "    <tr>\n",
              "      <th>mean</th>\n",
              "      <td>433.923913</td>\n",
              "      <td>65174.575870</td>\n",
              "    </tr>\n",
              "    <tr>\n",
              "      <th>std</th>\n",
              "      <td>1107.445358</td>\n",
              "      <td>146934.899014</td>\n",
              "    </tr>\n",
              "    <tr>\n",
              "      <th>min</th>\n",
              "      <td>0.000000</td>\n",
              "      <td>0.000000</td>\n",
              "    </tr>\n",
              "    <tr>\n",
              "      <th>25%</th>\n",
              "      <td>17.250000</td>\n",
              "      <td>4399.750000</td>\n",
              "    </tr>\n",
              "    <tr>\n",
              "      <th>50%</th>\n",
              "      <td>94.750000</td>\n",
              "      <td>25475.750000</td>\n",
              "    </tr>\n",
              "    <tr>\n",
              "      <th>75%</th>\n",
              "      <td>355.750000</td>\n",
              "      <td>61753.875000</td>\n",
              "    </tr>\n",
              "    <tr>\n",
              "      <th>max</th>\n",
              "      <td>7000.000000</td>\n",
              "      <td>917651.000000</td>\n",
              "    </tr>\n",
              "  </tbody>\n",
              "</table>\n",
              "</div>"
            ],
            "text/plain": [
              "        Quantidade    Gasto_Total\n",
              "count    46.000000      46.000000\n",
              "mean    433.923913   65174.575870\n",
              "std    1107.445358  146934.899014\n",
              "min       0.000000       0.000000\n",
              "25%      17.250000    4399.750000\n",
              "50%      94.750000   25475.750000\n",
              "75%     355.750000   61753.875000\n",
              "max    7000.000000  917651.000000"
            ]
          },
          "metadata": {
            "tags": []
          },
          "execution_count": 155
        }
      ]
    },
    {
      "cell_type": "markdown",
      "metadata": {
        "colab_type": "text",
        "id": "dQcgsqrurd-7"
      },
      "source": [
        "**Observamos:**\n",
        "a) Em relação ao **Gasto Total** a média e mediana respectivamente utilizadas são:\n",
        "\n",
        "* Gasto Total **(R$)** **( 65.144,57 / 25.475,75)**\n",
        "\n",
        "b) Em relação ao **Quantidade** a média e mediana respectivamente utilizadas são:\n",
        "\n",
        "* Quantidade  **( 433,92 / 94,75)**\n",
        "\n",
        "\n",
        "c) 75% da amostra utilizou 355,75 diárias tatalizando R$ 61.753,87\n"
      ]
    },
    {
      "cell_type": "markdown",
      "metadata": {
        "id": "7b6RMWpuHKN-",
        "colab_type": "text"
      },
      "source": [
        "### **Q5. Qual a correlação existente entre as variáveis?**"
      ]
    },
    {
      "cell_type": "code",
      "metadata": {
        "id": "ueLPNWvPHgfB",
        "colab_type": "code",
        "colab": {
          "base_uri": "https://localhost:8080/",
          "height": 1000
        },
        "outputId": "1667c695-ebea-43fe-83fd-41a76a0f2793"
      },
      "source": [
        "# matriz de correlação\n",
        "corr = df_di[['Quantidade','Gasto_Total']]\n",
        "display(corr)\n"
      ],
      "execution_count": null,
      "outputs": [
        {
          "output_type": "display_data",
          "data": {
            "text/html": [
              "<div>\n",
              "<style scoped>\n",
              "    .dataframe tbody tr th:only-of-type {\n",
              "        vertical-align: middle;\n",
              "    }\n",
              "\n",
              "    .dataframe tbody tr th {\n",
              "        vertical-align: top;\n",
              "    }\n",
              "\n",
              "    .dataframe thead th {\n",
              "        text-align: right;\n",
              "    }\n",
              "</style>\n",
              "<table border=\"1\" class=\"dataframe\">\n",
              "  <thead>\n",
              "    <tr style=\"text-align: right;\">\n",
              "      <th></th>\n",
              "      <th>Quantidade</th>\n",
              "      <th>Gasto_Total</th>\n",
              "    </tr>\n",
              "  </thead>\n",
              "  <tbody>\n",
              "    <tr>\n",
              "      <th>0</th>\n",
              "      <td>2000.0</td>\n",
              "      <td>313832.50</td>\n",
              "    </tr>\n",
              "    <tr>\n",
              "      <th>1</th>\n",
              "      <td>154.0</td>\n",
              "      <td>22439.50</td>\n",
              "    </tr>\n",
              "    <tr>\n",
              "      <th>2</th>\n",
              "      <td>260.5</td>\n",
              "      <td>129834.10</td>\n",
              "    </tr>\n",
              "    <tr>\n",
              "      <th>3</th>\n",
              "      <td>67.5</td>\n",
              "      <td>17535.00</td>\n",
              "    </tr>\n",
              "    <tr>\n",
              "      <th>4</th>\n",
              "      <td>390.0</td>\n",
              "      <td>99911.09</td>\n",
              "    </tr>\n",
              "    <tr>\n",
              "      <th>5</th>\n",
              "      <td>504.5</td>\n",
              "      <td>74860.00</td>\n",
              "    </tr>\n",
              "    <tr>\n",
              "      <th>6</th>\n",
              "      <td>496.5</td>\n",
              "      <td>71612.00</td>\n",
              "    </tr>\n",
              "    <tr>\n",
              "      <th>7</th>\n",
              "      <td>7000.0</td>\n",
              "      <td>917651.00</td>\n",
              "    </tr>\n",
              "    <tr>\n",
              "      <th>8</th>\n",
              "      <td>8.0</td>\n",
              "      <td>2888.00</td>\n",
              "    </tr>\n",
              "    <tr>\n",
              "      <th>9</th>\n",
              "      <td>465.5</td>\n",
              "      <td>62290.50</td>\n",
              "    </tr>\n",
              "    <tr>\n",
              "      <th>10</th>\n",
              "      <td>16.0</td>\n",
              "      <td>4747.00</td>\n",
              "    </tr>\n",
              "    <tr>\n",
              "      <th>11</th>\n",
              "      <td>77.0</td>\n",
              "      <td>16236.00</td>\n",
              "    </tr>\n",
              "    <tr>\n",
              "      <th>12</th>\n",
              "      <td>0.0</td>\n",
              "      <td>0.00</td>\n",
              "    </tr>\n",
              "    <tr>\n",
              "      <th>13</th>\n",
              "      <td>241.0</td>\n",
              "      <td>29680.50</td>\n",
              "    </tr>\n",
              "    <tr>\n",
              "      <th>14</th>\n",
              "      <td>2.0</td>\n",
              "      <td>252.00</td>\n",
              "    </tr>\n",
              "    <tr>\n",
              "      <th>15</th>\n",
              "      <td>15.5</td>\n",
              "      <td>3450.00</td>\n",
              "    </tr>\n",
              "    <tr>\n",
              "      <th>16</th>\n",
              "      <td>0.0</td>\n",
              "      <td>0.00</td>\n",
              "    </tr>\n",
              "    <tr>\n",
              "      <th>17</th>\n",
              "      <td>11.0</td>\n",
              "      <td>1590.00</td>\n",
              "    </tr>\n",
              "    <tr>\n",
              "      <th>18</th>\n",
              "      <td>17.0</td>\n",
              "      <td>4284.00</td>\n",
              "    </tr>\n",
              "    <tr>\n",
              "      <th>19</th>\n",
              "      <td>274.5</td>\n",
              "      <td>35592.00</td>\n",
              "    </tr>\n",
              "    <tr>\n",
              "      <th>20</th>\n",
              "      <td>329.5</td>\n",
              "      <td>44447.00</td>\n",
              "    </tr>\n",
              "    <tr>\n",
              "      <th>21</th>\n",
              "      <td>482.5</td>\n",
              "      <td>62768.00</td>\n",
              "    </tr>\n",
              "    <tr>\n",
              "      <th>22</th>\n",
              "      <td>18.0</td>\n",
              "      <td>3919.50</td>\n",
              "    </tr>\n",
              "    <tr>\n",
              "      <th>23</th>\n",
              "      <td>2.5</td>\n",
              "      <td>745.00</td>\n",
              "    </tr>\n",
              "    <tr>\n",
              "      <th>24</th>\n",
              "      <td>1400.0</td>\n",
              "      <td>178292.00</td>\n",
              "    </tr>\n",
              "    <tr>\n",
              "      <th>25</th>\n",
              "      <td>364.5</td>\n",
              "      <td>53408.00</td>\n",
              "    </tr>\n",
              "    <tr>\n",
              "      <th>26</th>\n",
              "      <td>18.5</td>\n",
              "      <td>5808.50</td>\n",
              "    </tr>\n",
              "    <tr>\n",
              "      <th>27</th>\n",
              "      <td>259.0</td>\n",
              "      <td>35280.00</td>\n",
              "    </tr>\n",
              "    <tr>\n",
              "      <th>28</th>\n",
              "      <td>36.0</td>\n",
              "      <td>6234.00</td>\n",
              "    </tr>\n",
              "    <tr>\n",
              "      <th>29</th>\n",
              "      <td>34.5</td>\n",
              "      <td>6555.00</td>\n",
              "    </tr>\n",
              "    <tr>\n",
              "      <th>30</th>\n",
              "      <td>189.5</td>\n",
              "      <td>28512.00</td>\n",
              "    </tr>\n",
              "    <tr>\n",
              "      <th>31</th>\n",
              "      <td>725.0</td>\n",
              "      <td>96564.00</td>\n",
              "    </tr>\n",
              "    <tr>\n",
              "      <th>32</th>\n",
              "      <td>112.5</td>\n",
              "      <td>33884.50</td>\n",
              "    </tr>\n",
              "    <tr>\n",
              "      <th>33</th>\n",
              "      <td>272.0</td>\n",
              "      <td>34650.00</td>\n",
              "    </tr>\n",
              "    <tr>\n",
              "      <th>34</th>\n",
              "      <td>30.5</td>\n",
              "      <td>5561.00</td>\n",
              "    </tr>\n",
              "    <tr>\n",
              "      <th>35</th>\n",
              "      <td>44.0</td>\n",
              "      <td>8121.00</td>\n",
              "    </tr>\n",
              "    <tr>\n",
              "      <th>36</th>\n",
              "      <td>62.5</td>\n",
              "      <td>11060.00</td>\n",
              "    </tr>\n",
              "    <tr>\n",
              "      <th>37</th>\n",
              "      <td>273.0</td>\n",
              "      <td>42134.50</td>\n",
              "    </tr>\n",
              "    <tr>\n",
              "      <th>38</th>\n",
              "      <td>36.0</td>\n",
              "      <td>13791.00</td>\n",
              "    </tr>\n",
              "    <tr>\n",
              "      <th>39</th>\n",
              "      <td>47.5</td>\n",
              "      <td>50166.70</td>\n",
              "    </tr>\n",
              "    <tr>\n",
              "      <th>40</th>\n",
              "      <td>0.5</td>\n",
              "      <td>163.50</td>\n",
              "    </tr>\n",
              "    <tr>\n",
              "      <th>41</th>\n",
              "      <td>407.5</td>\n",
              "      <td>60144.00</td>\n",
              "    </tr>\n",
              "    <tr>\n",
              "      <th>42</th>\n",
              "      <td>13.0</td>\n",
              "      <td>2076.00</td>\n",
              "    </tr>\n",
              "    <tr>\n",
              "      <th>43</th>\n",
              "      <td>301.5</td>\n",
              "      <td>66792.60</td>\n",
              "    </tr>\n",
              "    <tr>\n",
              "      <th>44</th>\n",
              "      <td>0.0</td>\n",
              "      <td>0.00</td>\n",
              "    </tr>\n",
              "    <tr>\n",
              "      <th>45</th>\n",
              "      <td>2500.0</td>\n",
              "      <td>338267.50</td>\n",
              "    </tr>\n",
              "  </tbody>\n",
              "</table>\n",
              "</div>"
            ],
            "text/plain": [
              "    Quantidade  Gasto_Total\n",
              "0       2000.0    313832.50\n",
              "1        154.0     22439.50\n",
              "2        260.5    129834.10\n",
              "3         67.5     17535.00\n",
              "4        390.0     99911.09\n",
              "5        504.5     74860.00\n",
              "6        496.5     71612.00\n",
              "7       7000.0    917651.00\n",
              "8          8.0      2888.00\n",
              "9        465.5     62290.50\n",
              "10        16.0      4747.00\n",
              "11        77.0     16236.00\n",
              "12         0.0         0.00\n",
              "13       241.0     29680.50\n",
              "14         2.0       252.00\n",
              "15        15.5      3450.00\n",
              "16         0.0         0.00\n",
              "17        11.0      1590.00\n",
              "18        17.0      4284.00\n",
              "19       274.5     35592.00\n",
              "20       329.5     44447.00\n",
              "21       482.5     62768.00\n",
              "22        18.0      3919.50\n",
              "23         2.5       745.00\n",
              "24      1400.0    178292.00\n",
              "25       364.5     53408.00\n",
              "26        18.5      5808.50\n",
              "27       259.0     35280.00\n",
              "28        36.0      6234.00\n",
              "29        34.5      6555.00\n",
              "30       189.5     28512.00\n",
              "31       725.0     96564.00\n",
              "32       112.5     33884.50\n",
              "33       272.0     34650.00\n",
              "34        30.5      5561.00\n",
              "35        44.0      8121.00\n",
              "36        62.5     11060.00\n",
              "37       273.0     42134.50\n",
              "38        36.0     13791.00\n",
              "39        47.5     50166.70\n",
              "40         0.5       163.50\n",
              "41       407.5     60144.00\n",
              "42        13.0      2076.00\n",
              "43       301.5     66792.60\n",
              "44         0.0         0.00\n",
              "45      2500.0    338267.50"
            ]
          },
          "metadata": {
            "tags": []
          }
        }
      ]
    },
    {
      "cell_type": "markdown",
      "metadata": {
        "id": "w9odj81PFWWF",
        "colab_type": "text"
      },
      "source": [
        "Abaixo mostramos o hotmap dos gastos ais relevantes em Reais(R$). "
      ]
    },
    {
      "cell_type": "code",
      "metadata": {
        "id": "onzGsaU2vxH1",
        "colab_type": "code",
        "colab": {
          "base_uri": "https://localhost:8080/",
          "height": 266
        },
        "outputId": "c2c21732-1ca8-438d-a13b-3a88d8a59cf4"
      },
      "source": [
        "# plotar um heatmap a partir das correlações\n",
        "sns.heatmap(corr[:15], cmap='RdBu', fmt='.3f', linecolor='white', center=True, xticklabels='auto', annot=True);"
      ],
      "execution_count": null,
      "outputs": [
        {
          "output_type": "display_data",
          "data": {
            "image/png": "[encoded data removed]",
            "text/plain": [
              "<Figure size 432x288 with 2 Axes>"
            ]
          },
          "metadata": {
            "tags": [],
            "needs_background": "light"
          }
        }
      ]
    },
    {
      "cell_type": "code",
      "metadata": {
        "id": "EvwoO-XAHhIm",
        "colab_type": "code",
        "colab": {
          "base_uri": "https://localhost:8080/",
          "height": 298
        },
        "outputId": "60685f1b-34a9-45d9-d417-c8fc62f80052"
      },
      "source": [
        "# mostrar a porcentagem Top 15 dos Orgão \n",
        "df_di[:15].Gasto_Total.value_counts() / df_di[:15].shape[0]*100\n"
      ],
      "execution_count": null,
      "outputs": [
        {
          "output_type": "execute_result",
          "data": {
            "text/plain": [
              "17535.00     6.666667\n",
              "29680.50     6.666667\n",
              "917651.00    6.666667\n",
              "99911.09     6.666667\n",
              "313832.50    6.666667\n",
              "22439.50     6.666667\n",
              "74860.00     6.666667\n",
              "129834.10    6.666667\n",
              "62290.50     6.666667\n",
              "252.00       6.666667\n",
              "0.00         6.666667\n",
              "16236.00     6.666667\n",
              "4747.00      6.666667\n",
              "2888.00      6.666667\n",
              "71612.00     6.666667\n",
              "Name: Gasto_Total, dtype: float64"
            ]
          },
          "metadata": {
            "tags": []
          },
          "execution_count": 171
        }
      ]
    },
    {
      "cell_type": "markdown",
      "metadata": {
        "id": "MFa5NbnLJMcd",
        "colab_type": "text"
      },
      "source": [
        "### **Q6. Qual a secretaria que usou mais diárias?**\n",
        "\n"
      ]
    },
    {
      "cell_type": "code",
      "metadata": {
        "id": "MD_xa143JZpi",
        "colab_type": "code",
        "colab": {
          "base_uri": "https://localhost:8080/",
          "height": 316
        },
        "outputId": "e15c27ff-1fad-4790-89c5-bc38c6ee199d"
      },
      "source": [
        "# Secretaria que usou mais diárias (**Quantidades)\n",
        "df_di.groupby(['Orgao']).Quantidade.mean().sort_values(ascending=False)[:15]"
      ],
      "execution_count": null,
      "outputs": [
        {
          "output_type": "execute_result",
          "data": {
            "text/plain": [
              "Orgao\n",
              "CETAM            7000.0\n",
              "UEA              2500.0\n",
              "ADAF-AM          2000.0\n",
              "PMAM             1400.0\n",
              "SEDUC             725.0\n",
              "CASA MILITAR      504.5\n",
              "CBMAM             496.5\n",
              "IPAAM             482.5\n",
              "DETRAN            465.5\n",
              "SSP               407.5\n",
              "CASA CIVIL        390.0\n",
              "POLICIA CIVIL     364.5\n",
              "IDAM              329.5\n",
              "SUSAM             301.5\n",
              "FVS-AM            274.5\n",
              "Name: Quantidade, dtype: float64"
            ]
          },
          "metadata": {
            "tags": []
          },
          "execution_count": 172
        }
      ]
    },
    {
      "cell_type": "code",
      "metadata": {
        "colab_type": "code",
        "id": "vzQ13vOD8S3c",
        "colab": {
          "base_uri": "https://localhost:8080/",
          "height": 316
        },
        "outputId": "8d9f5423-f387-4eda-df8e-d202306df044"
      },
      "source": [
        "# Secretaria que usou mais diárias (**Valores Gastos)\n",
        "df_di.groupby(['Orgao']).Gasto_Total.mean().sort_values(ascending=False)[:15]"
      ],
      "execution_count": null,
      "outputs": [
        {
          "output_type": "execute_result",
          "data": {
            "text/plain": [
              "Orgao\n",
              "CETAM            917651.00\n",
              "UEA              338267.50\n",
              "ADAF-AM          313832.50\n",
              "PMAM             178292.00\n",
              "AMAZONASTUR      129834.10\n",
              "CASA CIVIL        99911.09\n",
              "SEDUC             96564.00\n",
              "CASA MILITAR      74860.00\n",
              "CBMAM             71612.00\n",
              "SUSAM             66792.60\n",
              "IPAAM             62768.00\n",
              "DETRAN            62290.50\n",
              "SSP               60144.00\n",
              "POLICIA CIVIL     53408.00\n",
              "SGVG              50166.70\n",
              "Name: Gasto_Total, dtype: float64"
            ]
          },
          "metadata": {
            "tags": []
          },
          "execution_count": 173
        }
      ]
    },
    {
      "cell_type": "markdown",
      "metadata": {
        "id": "pmMa8_8J66iv",
        "colab_type": "text"
      },
      "source": [
        "Verificamos acima que o **CETAM**  utiliza  três vezes o valor de diárias em relação ao segundo Órgão que mais utizou **UEA**.  "
      ]
    },
    {
      "cell_type": "code",
      "metadata": {
        "id": "8Uk9Mno3-MFT",
        "colab_type": "code",
        "colab": {
          "base_uri": "https://localhost:8080/",
          "height": 515
        },
        "outputId": "e9330dc5-5230-46be-d6af-2c8c88319aaf"
      },
      "source": [
        "# plotar os imóveis pela latitude-longitude\n",
        "df_pl=df_di[:15].groupby(['Orgao']).Gasto_Total.mean().sort_values(ascending=False)[:15]\n",
        "df_pl.plot(title=\"Gastos Com Diárias Órgão do Estado do Amazonas\", legend=True,grid=True, figsize=(15,8));"
      ],
      "execution_count": null,
      "outputs": [
        {
          "output_type": "display_data",
          "data": {
            "image/png": "[encoded data removed]",
            "text/plain": [
              "<Figure size 1080x576 with 1 Axes>"
            ]
          },
          "metadata": {
            "tags": [],
            "needs_background": "light"
          }
        }
      ]
    },
    {
      "cell_type": "markdown",
      "metadata": {
        "id": "GkvAg623RjoR",
        "colab_type": "text"
      },
      "source": [
        "## Conclusões\n"
      ]
    },
    {
      "cell_type": "markdown",
      "metadata": {
        "id": "rbZ3Hsy9Ypw8",
        "colab_type": "text"
      },
      "source": [
        "Realizada apenas uma análise superficial dos dados relacionados aos gastos com diárias de viagem dos ógãos publicos do Estado do Amazonas.\n",
        "\n",
        "Avaliamos que há possibilidade de aprofundar as análises com esses dados e cruzar informações relacionadas de outros Estados da Federação e então mostra um comparativo nacional.\n",
        "\n",
        "Concluímos ainda, que é necessário ligar os **órgãos às respectivas categorias**,  pois no arquivo de dados de uso das diárias, não há tal relação, desta forma, não foi possível detalhar os gastos por categoria.   \n",
        "\n"
      ]
    }
  ]
}